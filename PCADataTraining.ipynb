{
 "cells": [
  {
   "cell_type": "code",
   "execution_count": 1,
   "metadata": {},
   "outputs": [],
   "source": [
    "import numpy as np\n",
    "import pandas as pd\n",
    "from sklearn.model_selection import train_test_split\n",
    "from sklearn.neighbors import KNeighborsClassifier\n",
    "from sklearn.svm import SVC\n",
    "from sklearn.linear_model import LogisticRegression\n",
    "from sklearn.tree import DecisionTreeClassifier\n",
    "from sklearn.ensemble import RandomForestClassifier\n",
    "from sklearn.metrics import accuracy_score,confusion_matrix,classification_report"
   ]
  },
  {
   "cell_type": "code",
   "execution_count": 2,
   "metadata": {},
   "outputs": [
    {
     "data": {
      "text/html": [
       "<div>\n",
       "<style scoped>\n",
       "    .dataframe tbody tr th:only-of-type {\n",
       "        vertical-align: middle;\n",
       "    }\n",
       "\n",
       "    .dataframe tbody tr th {\n",
       "        vertical-align: top;\n",
       "    }\n",
       "\n",
       "    .dataframe thead th {\n",
       "        text-align: right;\n",
       "    }\n",
       "</style>\n",
       "<table border=\"1\" class=\"dataframe\">\n",
       "  <thead>\n",
       "    <tr style=\"text-align: right;\">\n",
       "      <th></th>\n",
       "      <th>PC1</th>\n",
       "      <th>PC2</th>\n",
       "      <th>PC3</th>\n",
       "      <th>Churn</th>\n",
       "    </tr>\n",
       "  </thead>\n",
       "  <tbody>\n",
       "    <tr>\n",
       "      <th>0</th>\n",
       "      <td>-1.901289</td>\n",
       "      <td>-1.677362</td>\n",
       "      <td>-3.782398</td>\n",
       "      <td>0</td>\n",
       "    </tr>\n",
       "    <tr>\n",
       "      <th>1</th>\n",
       "      <td>-0.663606</td>\n",
       "      <td>-0.818212</td>\n",
       "      <td>0.208648</td>\n",
       "      <td>0</td>\n",
       "    </tr>\n",
       "    <tr>\n",
       "      <th>2</th>\n",
       "      <td>-1.197334</td>\n",
       "      <td>-2.291034</td>\n",
       "      <td>0.481391</td>\n",
       "      <td>1</td>\n",
       "    </tr>\n",
       "    <tr>\n",
       "      <th>3</th>\n",
       "      <td>-0.448424</td>\n",
       "      <td>-0.080102</td>\n",
       "      <td>-4.020620</td>\n",
       "      <td>0</td>\n",
       "    </tr>\n",
       "    <tr>\n",
       "      <th>4</th>\n",
       "      <td>-2.759017</td>\n",
       "      <td>-2.170904</td>\n",
       "      <td>0.897915</td>\n",
       "      <td>1</td>\n",
       "    </tr>\n",
       "  </tbody>\n",
       "</table>\n",
       "</div>"
      ],
      "text/plain": [
       "        PC1       PC2       PC3  Churn\n",
       "0 -1.901289 -1.677362 -3.782398      0\n",
       "1 -0.663606 -0.818212  0.208648      0\n",
       "2 -1.197334 -2.291034  0.481391      1\n",
       "3 -0.448424 -0.080102 -4.020620      0\n",
       "4 -2.759017 -2.170904  0.897915      1"
      ]
     },
     "execution_count": 2,
     "metadata": {},
     "output_type": "execute_result"
    }
   ],
   "source": [
    "#Training Models on Basic Data\n",
    "df=pd.read_csv(\"Datasets/PCAdata.csv\")\n",
    "df.drop(df.columns[0],axis=1,inplace=True)\n",
    "df.head()"
   ]
  },
  {
   "cell_type": "code",
   "execution_count": 3,
   "metadata": {},
   "outputs": [],
   "source": [
    "#prepare Data for training/testing\n",
    "X=df.iloc[:,:-1]\n",
    "y=df.iloc[:,-1]\n"
   ]
  },
  {
   "cell_type": "code",
   "execution_count": 4,
   "metadata": {},
   "outputs": [
    {
     "data": {
      "text/plain": [
       "(7043, 3)"
      ]
     },
     "execution_count": 4,
     "metadata": {},
     "output_type": "execute_result"
    }
   ],
   "source": [
    "X.shape"
   ]
  },
  {
   "cell_type": "code",
   "execution_count": 5,
   "metadata": {},
   "outputs": [
    {
     "data": {
      "text/plain": [
       "(7043,)"
      ]
     },
     "execution_count": 5,
     "metadata": {},
     "output_type": "execute_result"
    }
   ],
   "source": [
    "y.shape"
   ]
  },
  {
   "cell_type": "code",
   "execution_count": 6,
   "metadata": {},
   "outputs": [],
   "source": [
    "X_train,X_test,y_train,y_test=train_test_split(X,y,test_size=0.2,random_state=21)"
   ]
  },
  {
   "cell_type": "code",
   "execution_count": 7,
   "metadata": {},
   "outputs": [
    {
     "name": "stdout",
     "output_type": "stream",
     "text": [
      "0.7764371894960965\n",
      "[[935 100]\n",
      " [215 159]]\n",
      "{'0': {'precision': 0.8130434782608695, 'recall': 0.9033816425120773, 'f1-score': 0.8558352402745996, 'support': 1035.0}, '1': {'precision': 0.6138996138996139, 'recall': 0.42513368983957217, 'f1-score': 0.5023696682464455, 'support': 374.0}, 'accuracy': 0.7764371894960965, 'macro avg': {'precision': 0.7134715460802417, 'recall': 0.6642576661758247, 'f1-score': 0.6791024542605225, 'support': 1409.0}, 'weighted avg': {'precision': 0.7601834319364482, 'recall': 0.7764371894960965, 'f1-score': 0.7620125831145359, 'support': 1409.0}}\n"
     ]
    }
   ],
   "source": [
    "#KNN Model\n",
    "knn=KNeighborsClassifier(n_neighbors=20)\n",
    "knn.fit(X_train,y_train)\n",
    "yknn=knn.predict(X_test)\n",
    "knnacc=accuracy_score(yknn,y_test)\n",
    "knnmatrix=confusion_matrix(y_test,yknn)\n",
    "knnreport=classification_report(y_test,yknn,output_dict=True)\n",
    "print(knnacc)\n",
    "print(knnmatrix)\n",
    "print(knnreport)"
   ]
  },
  {
   "cell_type": "code",
   "execution_count": 8,
   "metadata": {},
   "outputs": [
    {
     "name": "stdout",
     "output_type": "stream",
     "text": [
      "0.7792760823278921\n",
      "[[937  98]\n",
      " [213 161]]\n",
      "{'0': {'precision': 0.8147826086956522, 'recall': 0.9053140096618357, 'f1-score': 0.8576659038901602, 'support': 1035.0}, '1': {'precision': 0.6216216216216216, 'recall': 0.4304812834224599, 'f1-score': 0.5086887835703001, 'support': 374.0}, 'accuracy': 0.7792760823278921, 'macro avg': {'precision': 0.7182021151586369, 'recall': 0.6678976465421478, 'f1-score': 0.6831773437302302, 'support': 1409.0}, 'weighted avg': {'precision': 0.7635106362572652, 'recall': 0.7792760823278921, 'f1-score': 0.7650346455511767, 'support': 1409.0}}\n"
     ]
    }
   ],
   "source": [
    "#SVC model\n",
    "svc=SVC()\n",
    "svc.fit(X_train,y_train)\n",
    "ysvc=svc.predict(X_test)\n",
    "svcacc=accuracy_score(ysvc,y_test)\n",
    "svcmatrix=confusion_matrix(y_test,ysvc)\n",
    "svcreport=classification_report(y_test,ysvc,output_dict=True)\n",
    "print(svcacc)\n",
    "print(svcmatrix)\n",
    "print(svcreport)"
   ]
  },
  {
   "cell_type": "code",
   "execution_count": 9,
   "metadata": {},
   "outputs": [
    {
     "name": "stdout",
     "output_type": "stream",
     "text": [
      "0.765791341376863\n",
      "[[924 111]\n",
      " [219 155]]\n",
      "{'0': {'precision': 0.8083989501312336, 'recall': 0.8927536231884058, 'f1-score': 0.8484848484848485, 'support': 1035.0}, '1': {'precision': 0.5827067669172933, 'recall': 0.4144385026737968, 'f1-score': 0.484375, 'support': 374.0}, 'accuracy': 0.765791341376863, 'macro avg': {'precision': 0.6955528585242634, 'recall': 0.6535960629311013, 'f1-score': 0.6664299242424243, 'support': 1409.0}, 'weighted avg': {'precision': 0.7484920115066676, 'recall': 0.765791341376863, 'f1-score': 0.7518368120523905, 'support': 1409.0}}\n"
     ]
    }
   ],
   "source": [
    "#Logistic Regression Model\n",
    "logreg=LogisticRegression(max_iter=1000)\n",
    "logreg.fit(X_train,y_train)\n",
    "ylogreg=logreg.predict(X_test)\n",
    "logregacc=accuracy_score(ylogreg,y_test)\n",
    "logregmatrix=confusion_matrix(y_test,ylogreg)\n",
    "logregreport=classification_report(y_test,ylogreg,output_dict=True)\n",
    "print(logregacc)\n",
    "print(logregmatrix)\n",
    "print(logregreport)"
   ]
  },
  {
   "cell_type": "code",
   "execution_count": 10,
   "metadata": {},
   "outputs": [
    {
     "name": "stdout",
     "output_type": "stream",
     "text": [
      "0.7217885024840313\n",
      "[[849 186]\n",
      " [206 168]]\n",
      "{'0': {'precision': 0.804739336492891, 'recall': 0.8202898550724638, 'f1-score': 0.8124401913875599, 'support': 1035.0}, '1': {'precision': 0.4745762711864407, 'recall': 0.44919786096256686, 'f1-score': 0.46153846153846156, 'support': 374.0}, 'accuracy': 0.7217885024840313, 'macro avg': {'precision': 0.6396578038396659, 'recall': 0.6347438580175153, 'f1-score': 0.6369893264630107, 'support': 1409.0}, 'weighted avg': {'precision': 0.7171020146869206, 'recall': 0.7217885024840313, 'f1-score': 0.7192980714701981, 'support': 1409.0}}\n"
     ]
    }
   ],
   "source": [
    "#Tree Model\n",
    "tree=DecisionTreeClassifier()\n",
    "tree.fit(X_train,y_train)\n",
    "ytree=tree.predict(X_test)\n",
    "treeacc=accuracy_score(ytree,y_test)\n",
    "treematrix=confusion_matrix(y_test,ytree)\n",
    "treereport=classification_report(y_test,ytree,output_dict=True)\n",
    "print(treeacc)\n",
    "print(treematrix)\n",
    "print(treereport)"
   ]
  },
  {
   "cell_type": "code",
   "execution_count": 11,
   "metadata": {},
   "outputs": [
    {
     "name": "stdout",
     "output_type": "stream",
     "text": [
      "0.7650816181689141\n",
      "[[922 113]\n",
      " [218 156]]\n",
      "{'0': {'precision': 0.8087719298245614, 'recall': 0.8908212560386474, 'f1-score': 0.847816091954023, 'support': 1035.0}, '1': {'precision': 0.5799256505576208, 'recall': 0.41711229946524064, 'f1-score': 0.48522550544323484, 'support': 374.0}, 'accuracy': 0.7650816181689141, 'macro avg': {'precision': 0.6943487901910911, 'recall': 0.653966777751944, 'f1-score': 0.6665207986986289, 'support': 1409.0}, 'weighted avg': {'precision': 0.7480277790468213, 'recall': 0.7650816181689141, 'f1-score': 0.7515713230718123, 'support': 1409.0}}\n"
     ]
    }
   ],
   "source": [
    "#Forest Model\n",
    "forest=RandomForestClassifier()\n",
    "forest.fit(X_train,y_train)\n",
    "yforest=forest.predict(X_test)\n",
    "forestacc=accuracy_score(yforest,y_test)\n",
    "forestmatrix=confusion_matrix(y_test,yforest)\n",
    "forestreport=classification_report(y_test,yforest,output_dict=True)\n",
    "print(forestacc)\n",
    "print(forestmatrix)\n",
    "print(forestreport)"
   ]
  },
  {
   "cell_type": "code",
   "execution_count": 13,
   "metadata": {},
   "outputs": [
    {
     "data": {
      "text/html": [
       "<div>\n",
       "<style scoped>\n",
       "    .dataframe tbody tr th:only-of-type {\n",
       "        vertical-align: middle;\n",
       "    }\n",
       "\n",
       "    .dataframe tbody tr th {\n",
       "        vertical-align: top;\n",
       "    }\n",
       "\n",
       "    .dataframe thead th {\n",
       "        text-align: right;\n",
       "    }\n",
       "</style>\n",
       "<table border=\"1\" class=\"dataframe\">\n",
       "  <thead>\n",
       "    <tr style=\"text-align: right;\">\n",
       "      <th></th>\n",
       "      <th>model</th>\n",
       "      <th>precision</th>\n",
       "      <th>recall</th>\n",
       "      <th>f1</th>\n",
       "    </tr>\n",
       "  </thead>\n",
       "  <tbody>\n",
       "    <tr>\n",
       "      <th>0</th>\n",
       "      <td>pcaknn</td>\n",
       "      <td>0.760183</td>\n",
       "      <td>0.776437</td>\n",
       "      <td>0.762013</td>\n",
       "    </tr>\n",
       "    <tr>\n",
       "      <th>1</th>\n",
       "      <td>pcasvc</td>\n",
       "      <td>0.763511</td>\n",
       "      <td>0.779276</td>\n",
       "      <td>0.765035</td>\n",
       "    </tr>\n",
       "    <tr>\n",
       "      <th>2</th>\n",
       "      <td>pcaLogReg</td>\n",
       "      <td>0.748492</td>\n",
       "      <td>0.765791</td>\n",
       "      <td>0.751837</td>\n",
       "    </tr>\n",
       "    <tr>\n",
       "      <th>3</th>\n",
       "      <td>pcaTree</td>\n",
       "      <td>0.717102</td>\n",
       "      <td>0.721789</td>\n",
       "      <td>0.719298</td>\n",
       "    </tr>\n",
       "    <tr>\n",
       "      <th>4</th>\n",
       "      <td>pcaForest</td>\n",
       "      <td>0.748028</td>\n",
       "      <td>0.765082</td>\n",
       "      <td>0.751571</td>\n",
       "    </tr>\n",
       "  </tbody>\n",
       "</table>\n",
       "</div>"
      ],
      "text/plain": [
       "       model  precision    recall        f1\n",
       "0     pcaknn   0.760183  0.776437  0.762013\n",
       "1     pcasvc   0.763511  0.779276  0.765035\n",
       "2  pcaLogReg   0.748492  0.765791  0.751837\n",
       "3    pcaTree   0.717102  0.721789  0.719298\n",
       "4  pcaForest   0.748028  0.765082  0.751571"
      ]
     },
     "execution_count": 13,
     "metadata": {},
     "output_type": "execute_result"
    }
   ],
   "source": [
    "metrics={\n",
    "    \"model\":[\"pcaknn\",\"pcasvc\",\"pcaLogReg\",\"pcaTree\",\"pcaForest\"],\n",
    "    \"precision\":[knnreport[\"weighted avg\"][\"precision\"],svcreport[\"weighted avg\"][\"precision\"],logregreport[\"weighted avg\"][\"precision\"],treereport[\"weighted avg\"][\"precision\"],forestreport[\"weighted avg\"][\"precision\"]],\n",
    "    \"recall\":[knnreport[\"weighted avg\"][\"recall\"],svcreport[\"weighted avg\"][\"recall\"],logregreport[\"weighted avg\"][\"recall\"],treereport[\"weighted avg\"][\"recall\"],forestreport[\"weighted avg\"][\"recall\"]],\n",
    "    \"f1\":[knnreport[\"weighted avg\"]['f1-score'],svcreport[\"weighted avg\"][\"f1-score\"],logregreport[\"weighted avg\"][\"f1-score\"],treereport[\"weighted avg\"][\"f1-score\"],forestreport[\"weighted avg\"][\"f1-score\"]]\n",
    "}\n",
    "metrics=pd.DataFrame(metrics)\n",
    "metrics.head()"
   ]
  },
  {
   "cell_type": "code",
   "execution_count": 14,
   "metadata": {},
   "outputs": [
    {
     "data": {
      "text/html": [
       "<div>\n",
       "<style scoped>\n",
       "    .dataframe tbody tr th:only-of-type {\n",
       "        vertical-align: middle;\n",
       "    }\n",
       "\n",
       "    .dataframe tbody tr th {\n",
       "        vertical-align: top;\n",
       "    }\n",
       "\n",
       "    .dataframe thead th {\n",
       "        text-align: right;\n",
       "    }\n",
       "</style>\n",
       "<table border=\"1\" class=\"dataframe\">\n",
       "  <thead>\n",
       "    <tr style=\"text-align: right;\">\n",
       "      <th></th>\n",
       "      <th>model</th>\n",
       "      <th>precision</th>\n",
       "      <th>recall</th>\n",
       "      <th>f1</th>\n",
       "    </tr>\n",
       "  </thead>\n",
       "  <tbody>\n",
       "    <tr>\n",
       "      <th>0</th>\n",
       "      <td>baseknn</td>\n",
       "      <td>0.780759</td>\n",
       "      <td>0.792051</td>\n",
       "      <td>0.765596</td>\n",
       "    </tr>\n",
       "    <tr>\n",
       "      <th>1</th>\n",
       "      <td>basesvc</td>\n",
       "      <td>0.539584</td>\n",
       "      <td>0.734564</td>\n",
       "      <td>0.622155</td>\n",
       "    </tr>\n",
       "    <tr>\n",
       "      <th>2</th>\n",
       "      <td>baseLogReg</td>\n",
       "      <td>0.786733</td>\n",
       "      <td>0.794890</td>\n",
       "      <td>0.789405</td>\n",
       "    </tr>\n",
       "    <tr>\n",
       "      <th>3</th>\n",
       "      <td>baseTree</td>\n",
       "      <td>0.725576</td>\n",
       "      <td>0.723918</td>\n",
       "      <td>0.724729</td>\n",
       "    </tr>\n",
       "    <tr>\n",
       "      <th>4</th>\n",
       "      <td>baseForest</td>\n",
       "      <td>0.772494</td>\n",
       "      <td>0.786373</td>\n",
       "      <td>0.774088</td>\n",
       "    </tr>\n",
       "    <tr>\n",
       "      <th>5</th>\n",
       "      <td>normalknn</td>\n",
       "      <td>0.756183</td>\n",
       "      <td>0.772179</td>\n",
       "      <td>0.759077</td>\n",
       "    </tr>\n",
       "    <tr>\n",
       "      <th>6</th>\n",
       "      <td>normalsvc</td>\n",
       "      <td>0.781897</td>\n",
       "      <td>0.794180</td>\n",
       "      <td>0.783316</td>\n",
       "    </tr>\n",
       "    <tr>\n",
       "      <th>7</th>\n",
       "      <td>normalLogReg</td>\n",
       "      <td>0.780784</td>\n",
       "      <td>0.790632</td>\n",
       "      <td>0.783614</td>\n",
       "    </tr>\n",
       "    <tr>\n",
       "      <th>8</th>\n",
       "      <td>normalTree</td>\n",
       "      <td>0.724664</td>\n",
       "      <td>0.721789</td>\n",
       "      <td>0.723174</td>\n",
       "    </tr>\n",
       "    <tr>\n",
       "      <th>9</th>\n",
       "      <td>normalForest</td>\n",
       "      <td>0.769291</td>\n",
       "      <td>0.782115</td>\n",
       "      <td>0.772170</td>\n",
       "    </tr>\n",
       "    <tr>\n",
       "      <th>10</th>\n",
       "      <td>stdknn</td>\n",
       "      <td>0.761861</td>\n",
       "      <td>0.773598</td>\n",
       "      <td>0.765480</td>\n",
       "    </tr>\n",
       "    <tr>\n",
       "      <th>11</th>\n",
       "      <td>stdsvc</td>\n",
       "      <td>0.785510</td>\n",
       "      <td>0.797019</td>\n",
       "      <td>0.787104</td>\n",
       "    </tr>\n",
       "    <tr>\n",
       "      <th>12</th>\n",
       "      <td>stdLogReg</td>\n",
       "      <td>0.779081</td>\n",
       "      <td>0.788502</td>\n",
       "      <td>0.782020</td>\n",
       "    </tr>\n",
       "    <tr>\n",
       "      <th>13</th>\n",
       "      <td>stdTree</td>\n",
       "      <td>0.721343</td>\n",
       "      <td>0.719659</td>\n",
       "      <td>0.720483</td>\n",
       "    </tr>\n",
       "    <tr>\n",
       "      <th>14</th>\n",
       "      <td>stdForest</td>\n",
       "      <td>0.766697</td>\n",
       "      <td>0.780696</td>\n",
       "      <td>0.769265</td>\n",
       "    </tr>\n",
       "    <tr>\n",
       "      <th>15</th>\n",
       "      <td>pcaknn</td>\n",
       "      <td>0.760183</td>\n",
       "      <td>0.776437</td>\n",
       "      <td>0.762013</td>\n",
       "    </tr>\n",
       "    <tr>\n",
       "      <th>16</th>\n",
       "      <td>pcasvc</td>\n",
       "      <td>0.763511</td>\n",
       "      <td>0.779276</td>\n",
       "      <td>0.765035</td>\n",
       "    </tr>\n",
       "    <tr>\n",
       "      <th>17</th>\n",
       "      <td>pcaLogReg</td>\n",
       "      <td>0.748492</td>\n",
       "      <td>0.765791</td>\n",
       "      <td>0.751837</td>\n",
       "    </tr>\n",
       "    <tr>\n",
       "      <th>18</th>\n",
       "      <td>pcaTree</td>\n",
       "      <td>0.717102</td>\n",
       "      <td>0.721789</td>\n",
       "      <td>0.719298</td>\n",
       "    </tr>\n",
       "    <tr>\n",
       "      <th>19</th>\n",
       "      <td>pcaForest</td>\n",
       "      <td>0.748028</td>\n",
       "      <td>0.765082</td>\n",
       "      <td>0.751571</td>\n",
       "    </tr>\n",
       "  </tbody>\n",
       "</table>\n",
       "</div>"
      ],
      "text/plain": [
       "           model  precision    recall        f1\n",
       "0        baseknn   0.780759  0.792051  0.765596\n",
       "1        basesvc   0.539584  0.734564  0.622155\n",
       "2     baseLogReg   0.786733  0.794890  0.789405\n",
       "3       baseTree   0.725576  0.723918  0.724729\n",
       "4     baseForest   0.772494  0.786373  0.774088\n",
       "5      normalknn   0.756183  0.772179  0.759077\n",
       "6      normalsvc   0.781897  0.794180  0.783316\n",
       "7   normalLogReg   0.780784  0.790632  0.783614\n",
       "8     normalTree   0.724664  0.721789  0.723174\n",
       "9   normalForest   0.769291  0.782115  0.772170\n",
       "10        stdknn   0.761861  0.773598  0.765480\n",
       "11        stdsvc   0.785510  0.797019  0.787104\n",
       "12     stdLogReg   0.779081  0.788502  0.782020\n",
       "13       stdTree   0.721343  0.719659  0.720483\n",
       "14     stdForest   0.766697  0.780696  0.769265\n",
       "15        pcaknn   0.760183  0.776437  0.762013\n",
       "16        pcasvc   0.763511  0.779276  0.765035\n",
       "17     pcaLogReg   0.748492  0.765791  0.751837\n",
       "18       pcaTree   0.717102  0.721789  0.719298\n",
       "19     pcaForest   0.748028  0.765082  0.751571"
      ]
     },
     "execution_count": 14,
     "metadata": {},
     "output_type": "execute_result"
    }
   ],
   "source": [
    "errors=pd.read_csv(\"Metrics.csv\",index_col=0)\n",
    "metrics=pd.concat([errors,metrics],ignore_index=True)\n",
    "metrics"
   ]
  },
  {
   "cell_type": "code",
   "execution_count": 15,
   "metadata": {},
   "outputs": [],
   "source": [
    "metrics.to_csv(\"metrics.csv\")"
   ]
  }
 ],
 "metadata": {
  "kernelspec": {
   "display_name": ".venv",
   "language": "python",
   "name": "python3"
  },
  "language_info": {
   "codemirror_mode": {
    "name": "ipython",
    "version": 3
   },
   "file_extension": ".py",
   "mimetype": "text/x-python",
   "name": "python",
   "nbconvert_exporter": "python",
   "pygments_lexer": "ipython3",
   "version": "3.10.11"
  }
 },
 "nbformat": 4,
 "nbformat_minor": 2
}
