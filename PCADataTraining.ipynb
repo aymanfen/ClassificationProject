{
 "cells": [
  {
   "cell_type": "code",
   "execution_count": 1,
   "metadata": {},
   "outputs": [],
   "source": [
    "import numpy as np\n",
    "import pandas as pd\n",
    "from sklearn.model_selection import train_test_split\n",
    "from sklearn.neighbors import KNeighborsClassifier\n",
    "from sklearn.svm import SVC\n",
    "from sklearn.linear_model import LogisticRegression\n",
    "from sklearn.tree import DecisionTreeClassifier\n",
    "from sklearn.ensemble import RandomForestClassifier\n",
    "from sklearn.metrics import accuracy_score,confusion_matrix,classification_report"
   ]
  },
  {
   "cell_type": "code",
   "execution_count": 2,
   "metadata": {},
   "outputs": [
    {
     "data": {
      "text/html": [
       "<div>\n",
       "<style scoped>\n",
       "    .dataframe tbody tr th:only-of-type {\n",
       "        vertical-align: middle;\n",
       "    }\n",
       "\n",
       "    .dataframe tbody tr th {\n",
       "        vertical-align: top;\n",
       "    }\n",
       "\n",
       "    .dataframe thead th {\n",
       "        text-align: right;\n",
       "    }\n",
       "</style>\n",
       "<table border=\"1\" class=\"dataframe\">\n",
       "  <thead>\n",
       "    <tr style=\"text-align: right;\">\n",
       "      <th></th>\n",
       "      <th>PC1</th>\n",
       "      <th>PC2</th>\n",
       "      <th>PC3</th>\n",
       "      <th>Churn</th>\n",
       "    </tr>\n",
       "  </thead>\n",
       "  <tbody>\n",
       "    <tr>\n",
       "      <th>0</th>\n",
       "      <td>-1.901289</td>\n",
       "      <td>-1.677362</td>\n",
       "      <td>-3.782398</td>\n",
       "      <td>0</td>\n",
       "    </tr>\n",
       "    <tr>\n",
       "      <th>1</th>\n",
       "      <td>-0.663606</td>\n",
       "      <td>-0.818212</td>\n",
       "      <td>0.208648</td>\n",
       "      <td>0</td>\n",
       "    </tr>\n",
       "    <tr>\n",
       "      <th>2</th>\n",
       "      <td>-1.197334</td>\n",
       "      <td>-2.291034</td>\n",
       "      <td>0.481391</td>\n",
       "      <td>1</td>\n",
       "    </tr>\n",
       "    <tr>\n",
       "      <th>3</th>\n",
       "      <td>-0.448424</td>\n",
       "      <td>-0.080102</td>\n",
       "      <td>-4.020620</td>\n",
       "      <td>0</td>\n",
       "    </tr>\n",
       "    <tr>\n",
       "      <th>4</th>\n",
       "      <td>-2.759017</td>\n",
       "      <td>-2.170904</td>\n",
       "      <td>0.897915</td>\n",
       "      <td>1</td>\n",
       "    </tr>\n",
       "  </tbody>\n",
       "</table>\n",
       "</div>"
      ],
      "text/plain": [
       "        PC1       PC2       PC3  Churn\n",
       "0 -1.901289 -1.677362 -3.782398      0\n",
       "1 -0.663606 -0.818212  0.208648      0\n",
       "2 -1.197334 -2.291034  0.481391      1\n",
       "3 -0.448424 -0.080102 -4.020620      0\n",
       "4 -2.759017 -2.170904  0.897915      1"
      ]
     },
     "execution_count": 2,
     "metadata": {},
     "output_type": "execute_result"
    }
   ],
   "source": [
    "#Training Models on Basic Data\n",
    "df=pd.read_csv(\"Datasets/PCAdata.csv\")\n",
    "df.drop(df.columns[0],axis=1,inplace=True)\n",
    "df.head()"
   ]
  },
  {
   "cell_type": "code",
   "execution_count": 3,
   "metadata": {},
   "outputs": [],
   "source": [
    "#prepare Data for training/testing\n",
    "X=df.iloc[:,:-1]\n",
    "y=df.iloc[:,-1]\n"
   ]
  },
  {
   "cell_type": "code",
   "execution_count": 4,
   "metadata": {},
   "outputs": [
    {
     "data": {
      "text/plain": [
       "(7043, 3)"
      ]
     },
     "execution_count": 4,
     "metadata": {},
     "output_type": "execute_result"
    }
   ],
   "source": [
    "X.shape"
   ]
  },
  {
   "cell_type": "code",
   "execution_count": 5,
   "metadata": {},
   "outputs": [
    {
     "data": {
      "text/plain": [
       "(7043,)"
      ]
     },
     "execution_count": 5,
     "metadata": {},
     "output_type": "execute_result"
    }
   ],
   "source": [
    "y.shape"
   ]
  },
  {
   "cell_type": "code",
   "execution_count": 6,
   "metadata": {},
   "outputs": [],
   "source": [
    "X_train,X_test,y_train,y_test=train_test_split(X,y,test_size=0.2,random_state=21)"
   ]
  },
  {
   "cell_type": "code",
   "execution_count": 7,
   "metadata": {},
   "outputs": [
    {
     "name": "stdout",
     "output_type": "stream",
     "text": [
      "0.7764371894960965\n",
      "[[935 100]\n",
      " [215 159]]\n",
      "{'0': {'precision': 0.8130434782608695, 'recall': 0.9033816425120773, 'f1-score': 0.8558352402745996, 'support': 1035.0}, '1': {'precision': 0.6138996138996139, 'recall': 0.42513368983957217, 'f1-score': 0.5023696682464455, 'support': 374.0}, 'accuracy': 0.7764371894960965, 'macro avg': {'precision': 0.7134715460802417, 'recall': 0.6642576661758247, 'f1-score': 0.6791024542605225, 'support': 1409.0}, 'weighted avg': {'precision': 0.7601834319364482, 'recall': 0.7764371894960965, 'f1-score': 0.7620125831145359, 'support': 1409.0}}\n"
     ]
    }
   ],
   "source": [
    "#KNN Model\n",
    "knn=KNeighborsClassifier(n_neighbors=20)\n",
    "knn.fit(X_train,y_train)\n",
    "yknn=knn.predict(X_test)\n",
    "knnacc=accuracy_score(yknn,y_test)\n",
    "knnmatrix=confusion_matrix(y_test,yknn)\n",
    "knnreport=classification_report(y_test,yknn,output_dict=True)\n",
    "print(knnacc)\n",
    "print(knnmatrix)\n",
    "print(knnreport)"
   ]
  },
  {
   "cell_type": "code",
   "execution_count": 8,
   "metadata": {},
   "outputs": [
    {
     "name": "stdout",
     "output_type": "stream",
     "text": [
      "0.7792760823278921\n",
      "[[937  98]\n",
      " [213 161]]\n",
      "{'0': {'precision': 0.8147826086956522, 'recall': 0.9053140096618357, 'f1-score': 0.8576659038901602, 'support': 1035.0}, '1': {'precision': 0.6216216216216216, 'recall': 0.4304812834224599, 'f1-score': 0.5086887835703001, 'support': 374.0}, 'accuracy': 0.7792760823278921, 'macro avg': {'precision': 0.7182021151586369, 'recall': 0.6678976465421478, 'f1-score': 0.6831773437302302, 'support': 1409.0}, 'weighted avg': {'precision': 0.7635106362572652, 'recall': 0.7792760823278921, 'f1-score': 0.7650346455511767, 'support': 1409.0}}\n"
     ]
    }
   ],
   "source": [
    "#SVC model\n",
    "svc=SVC()\n",
    "svc.fit(X_train,y_train)\n",
    "ysvc=svc.predict(X_test)\n",
    "svcacc=accuracy_score(ysvc,y_test)\n",
    "svcmatrix=confusion_matrix(y_test,ysvc)\n",
    "svcreport=classification_report(y_test,ysvc,output_dict=True)\n",
    "print(svcacc)\n",
    "print(svcmatrix)\n",
    "print(svcreport)"
   ]
  },
  {
   "cell_type": "code",
   "execution_count": 9,
   "metadata": {},
   "outputs": [
    {
     "name": "stdout",
     "output_type": "stream",
     "text": [
      "0.765791341376863\n",
      "[[924 111]\n",
      " [219 155]]\n",
      "{'0': {'precision': 0.8083989501312336, 'recall': 0.8927536231884058, 'f1-score': 0.8484848484848485, 'support': 1035.0}, '1': {'precision': 0.5827067669172933, 'recall': 0.4144385026737968, 'f1-score': 0.484375, 'support': 374.0}, 'accuracy': 0.765791341376863, 'macro avg': {'precision': 0.6955528585242634, 'recall': 0.6535960629311013, 'f1-score': 0.6664299242424243, 'support': 1409.0}, 'weighted avg': {'precision': 0.7484920115066676, 'recall': 0.765791341376863, 'f1-score': 0.7518368120523905, 'support': 1409.0}}\n"
     ]
    }
   ],
   "source": [
    "#Logistic Regression Model\n",
    "logreg=LogisticRegression(max_iter=1000)\n",
    "logreg.fit(X_train,y_train)\n",
    "ylogreg=logreg.predict(X_test)\n",
    "logregacc=accuracy_score(ylogreg,y_test)\n",
    "logregmatrix=confusion_matrix(y_test,ylogreg)\n",
    "logregreport=classification_report(y_test,ylogreg,output_dict=True)\n",
    "print(logregacc)\n",
    "print(logregmatrix)\n",
    "print(logregreport)"
   ]
  },
  {
   "cell_type": "code",
   "execution_count": 10,
   "metadata": {},
   "outputs": [
    {
     "name": "stdout",
     "output_type": "stream",
     "text": [
      "0.7224982256919801\n",
      "[[857 178]\n",
      " [213 161]]\n",
      "{'0': {'precision': 0.8009345794392523, 'recall': 0.8280193236714976, 'f1-score': 0.8142517814726841, 'support': 1035.0}, '1': {'precision': 0.4749262536873156, 'recall': 0.4304812834224599, 'f1-score': 0.45161290322580644, 'support': 374.0}, 'accuracy': 0.7224982256919801, 'macro avg': {'precision': 0.637930416563284, 'recall': 0.6292503035469788, 'f1-score': 0.6329323423492452, 'support': 1409.0}, 'weighted avg': {'precision': 0.7144000770750051, 'recall': 0.7224982256919801, 'f1-score': 0.7179941942020437, 'support': 1409.0}}\n"
     ]
    }
   ],
   "source": [
    "#Tree Model\n",
    "tree=DecisionTreeClassifier()\n",
    "tree.fit(X_train,y_train)\n",
    "ytree=tree.predict(X_test)\n",
    "treeacc=accuracy_score(ytree,y_test)\n",
    "treematrix=confusion_matrix(y_test,ytree)\n",
    "treereport=classification_report(y_test,ytree,output_dict=True)\n",
    "print(treeacc)\n",
    "print(treematrix)\n",
    "print(treereport)"
   ]
  },
  {
   "cell_type": "code",
   "execution_count": 11,
   "metadata": {},
   "outputs": [
    {
     "name": "stdout",
     "output_type": "stream",
     "text": [
      "0.7650816181689141\n",
      "[[919 116]\n",
      " [215 159]]\n",
      "{'0': {'precision': 0.810405643738977, 'recall': 0.8879227053140096, 'f1-score': 0.8473951129552789, 'support': 1035.0}, '1': {'precision': 0.5781818181818181, 'recall': 0.42513368983957217, 'f1-score': 0.4899845916795069, 'support': 374.0}, 'accuracy': 0.7650816181689141, 'macro avg': {'precision': 0.6942937309603976, 'recall': 0.6565281975767909, 'f1-score': 0.668689852317393, 'support': 1409.0}, 'weighted avg': {'precision': 0.7487649689636914, 'recall': 0.7650816181689141, 'f1-score': 0.7525253223540449, 'support': 1409.0}}\n"
     ]
    }
   ],
   "source": [
    "#Forest Model\n",
    "forest=RandomForestClassifier()\n",
    "forest.fit(X_train,y_train)\n",
    "yforest=forest.predict(X_test)\n",
    "forestacc=accuracy_score(yforest,y_test)\n",
    "forestmatrix=confusion_matrix(y_test,yforest)\n",
    "forestreport=classification_report(y_test,yforest,output_dict=True)\n",
    "print(forestacc)\n",
    "print(forestmatrix)\n",
    "print(forestreport)"
   ]
  }
 ],
 "metadata": {
  "kernelspec": {
   "display_name": ".venv",
   "language": "python",
   "name": "python3"
  },
  "language_info": {
   "codemirror_mode": {
    "name": "ipython",
    "version": 3
   },
   "file_extension": ".py",
   "mimetype": "text/x-python",
   "name": "python",
   "nbconvert_exporter": "python",
   "pygments_lexer": "ipython3",
   "version": "3.10.11"
  }
 },
 "nbformat": 4,
 "nbformat_minor": 2
}
