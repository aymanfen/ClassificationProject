{
 "cells": [
  {
   "cell_type": "code",
   "execution_count": 1,
   "metadata": {},
   "outputs": [],
   "source": [
    "import numpy as np\n",
    "import pandas as pd\n",
    "from sklearn.model_selection import train_test_split\n",
    "from sklearn.neighbors import KNeighborsClassifier\n",
    "from sklearn.svm import SVC\n",
    "from sklearn.linear_model import LogisticRegression\n",
    "from sklearn.tree import DecisionTreeClassifier\n",
    "from sklearn.ensemble import RandomForestClassifier\n",
    "from sklearn.metrics import accuracy_score,confusion_matrix,classification_report"
   ]
  },
  {
   "cell_type": "code",
   "execution_count": 2,
   "metadata": {},
   "outputs": [
    {
     "data": {
      "text/html": [
       "<div>\n",
       "<style scoped>\n",
       "    .dataframe tbody tr th:only-of-type {\n",
       "        vertical-align: middle;\n",
       "    }\n",
       "\n",
       "    .dataframe tbody tr th {\n",
       "        vertical-align: top;\n",
       "    }\n",
       "\n",
       "    .dataframe thead th {\n",
       "        text-align: right;\n",
       "    }\n",
       "</style>\n",
       "<table border=\"1\" class=\"dataframe\">\n",
       "  <thead>\n",
       "    <tr style=\"text-align: right;\">\n",
       "      <th></th>\n",
       "      <th>PC1</th>\n",
       "      <th>PC2</th>\n",
       "      <th>PC3</th>\n",
       "      <th>PC4</th>\n",
       "      <th>PC5</th>\n",
       "      <th>PC6</th>\n",
       "      <th>PC7</th>\n",
       "      <th>PC8</th>\n",
       "      <th>PC9</th>\n",
       "      <th>PC10</th>\n",
       "      <th>Churn</th>\n",
       "    </tr>\n",
       "  </thead>\n",
       "  <tbody>\n",
       "    <tr>\n",
       "      <th>0</th>\n",
       "      <td>-1.901289</td>\n",
       "      <td>-1.677362</td>\n",
       "      <td>-3.782398</td>\n",
       "      <td>-0.177749</td>\n",
       "      <td>-1.385649</td>\n",
       "      <td>1.112263</td>\n",
       "      <td>-0.703578</td>\n",
       "      <td>0.026582</td>\n",
       "      <td>0.542130</td>\n",
       "      <td>1.413739</td>\n",
       "      <td>0</td>\n",
       "    </tr>\n",
       "    <tr>\n",
       "      <th>1</th>\n",
       "      <td>-0.663606</td>\n",
       "      <td>-0.818212</td>\n",
       "      <td>0.208648</td>\n",
       "      <td>0.479259</td>\n",
       "      <td>1.782965</td>\n",
       "      <td>-1.060120</td>\n",
       "      <td>0.612599</td>\n",
       "      <td>-0.883878</td>\n",
       "      <td>1.026004</td>\n",
       "      <td>-0.113518</td>\n",
       "      <td>0</td>\n",
       "    </tr>\n",
       "    <tr>\n",
       "      <th>2</th>\n",
       "      <td>-1.197334</td>\n",
       "      <td>-2.291034</td>\n",
       "      <td>0.481391</td>\n",
       "      <td>0.352736</td>\n",
       "      <td>0.687814</td>\n",
       "      <td>-0.942323</td>\n",
       "      <td>-0.495574</td>\n",
       "      <td>0.778095</td>\n",
       "      <td>0.959643</td>\n",
       "      <td>0.117506</td>\n",
       "      <td>1</td>\n",
       "    </tr>\n",
       "    <tr>\n",
       "      <th>3</th>\n",
       "      <td>-0.448424</td>\n",
       "      <td>-0.080102</td>\n",
       "      <td>-4.020620</td>\n",
       "      <td>-0.891912</td>\n",
       "      <td>1.537617</td>\n",
       "      <td>-0.991623</td>\n",
       "      <td>0.246803</td>\n",
       "      <td>-0.542467</td>\n",
       "      <td>0.089424</td>\n",
       "      <td>-0.110527</td>\n",
       "      <td>0</td>\n",
       "    </tr>\n",
       "    <tr>\n",
       "      <th>4</th>\n",
       "      <td>-2.759017</td>\n",
       "      <td>-2.170904</td>\n",
       "      <td>0.897915</td>\n",
       "      <td>0.360015</td>\n",
       "      <td>0.302903</td>\n",
       "      <td>1.019008</td>\n",
       "      <td>-0.724327</td>\n",
       "      <td>-0.127049</td>\n",
       "      <td>0.694728</td>\n",
       "      <td>-0.047476</td>\n",
       "      <td>1</td>\n",
       "    </tr>\n",
       "  </tbody>\n",
       "</table>\n",
       "</div>"
      ],
      "text/plain": [
       "        PC1       PC2       PC3       PC4       PC5       PC6       PC7  \\\n",
       "0 -1.901289 -1.677362 -3.782398 -0.177749 -1.385649  1.112263 -0.703578   \n",
       "1 -0.663606 -0.818212  0.208648  0.479259  1.782965 -1.060120  0.612599   \n",
       "2 -1.197334 -2.291034  0.481391  0.352736  0.687814 -0.942323 -0.495574   \n",
       "3 -0.448424 -0.080102 -4.020620 -0.891912  1.537617 -0.991623  0.246803   \n",
       "4 -2.759017 -2.170904  0.897915  0.360015  0.302903  1.019008 -0.724327   \n",
       "\n",
       "        PC8       PC9      PC10  Churn  \n",
       "0  0.026582  0.542130  1.413739      0  \n",
       "1 -0.883878  1.026004 -0.113518      0  \n",
       "2  0.778095  0.959643  0.117506      1  \n",
       "3 -0.542467  0.089424 -0.110527      0  \n",
       "4 -0.127049  0.694728 -0.047476      1  "
      ]
     },
     "execution_count": 2,
     "metadata": {},
     "output_type": "execute_result"
    }
   ],
   "source": [
    "#Training Models on Basic Data\n",
    "df=pd.read_csv(\"Datasets/PCA2data.csv\")\n",
    "df.drop(df.columns[0],axis=1,inplace=True)\n",
    "df.head()"
   ]
  },
  {
   "cell_type": "code",
   "execution_count": 3,
   "metadata": {},
   "outputs": [],
   "source": [
    "#prepare Data for training/testing\n",
    "X=df.iloc[:,:-1]\n",
    "y=df.iloc[:,-1]\n"
   ]
  },
  {
   "cell_type": "code",
   "execution_count": 4,
   "metadata": {},
   "outputs": [
    {
     "data": {
      "text/plain": [
       "(7043, 10)"
      ]
     },
     "execution_count": 4,
     "metadata": {},
     "output_type": "execute_result"
    }
   ],
   "source": [
    "X.shape"
   ]
  },
  {
   "cell_type": "code",
   "execution_count": 5,
   "metadata": {},
   "outputs": [
    {
     "data": {
      "text/plain": [
       "(7043,)"
      ]
     },
     "execution_count": 5,
     "metadata": {},
     "output_type": "execute_result"
    }
   ],
   "source": [
    "y.shape"
   ]
  },
  {
   "cell_type": "code",
   "execution_count": 6,
   "metadata": {},
   "outputs": [],
   "source": [
    "X_train,X_test,y_train,y_test=train_test_split(X,y,test_size=0.2,random_state=21)"
   ]
  },
  {
   "cell_type": "code",
   "execution_count": 7,
   "metadata": {},
   "outputs": [
    {
     "name": "stdout",
     "output_type": "stream",
     "text": [
      "0.7757274662881476\n",
      "[[930 105]\n",
      " [211 163]]\n",
      "{'0': {'precision': 0.8150744960560912, 'recall': 0.8985507246376812, 'f1-score': 0.8547794117647058, 'support': 1035.0}, '1': {'precision': 0.6082089552238806, 'recall': 0.4358288770053476, 'f1-score': 0.5077881619937694, 'support': 374.0}, 'accuracy': 0.7757274662881476, 'macro avg': {'precision': 0.7116417256399858, 'recall': 0.6671898008215144, 'f1-score': 0.6812837868792376, 'support': 1409.0}, 'weighted avg': {'precision': 0.7601648351112744, 'recall': 0.7757274662881476, 'f1-score': 0.7626752759135133, 'support': 1409.0}}\n"
     ]
    }
   ],
   "source": [
    "#KNN Model\n",
    "knn=KNeighborsClassifier(n_neighbors=20)\n",
    "knn.fit(X_train,y_train)\n",
    "yknn=knn.predict(X_test)\n",
    "knnacc=accuracy_score(yknn,y_test)\n",
    "knnmatrix=confusion_matrix(y_test,yknn)\n",
    "knnreport=classification_report(y_test,yknn,output_dict=True)\n",
    "print(knnacc)\n",
    "print(knnmatrix)\n",
    "print(knnreport)"
   ]
  },
  {
   "cell_type": "code",
   "execution_count": 8,
   "metadata": {},
   "outputs": [
    {
     "name": "stdout",
     "output_type": "stream",
     "text": [
      "0.7970191625266146\n",
      "[[944  91]\n",
      " [195 179]]\n",
      "{'0': {'precision': 0.8287971905179983, 'recall': 0.9120772946859903, 'f1-score': 0.8684452621895125, 'support': 1035.0}, '1': {'precision': 0.662962962962963, 'recall': 0.4786096256684492, 'f1-score': 0.5559006211180124, 'support': 374.0}, 'accuracy': 0.7970191625266146, 'macro avg': {'precision': 0.7458800767404806, 'recall': 0.6953434601772197, 'f1-score': 0.7121729416537624, 'support': 1409.0}, 'weighted avg': {'precision': 0.7847787369299335, 'recall': 0.7970191625266146, 'f1-score': 0.7854845128916125, 'support': 1409.0}}\n"
     ]
    }
   ],
   "source": [
    "#SVC model\n",
    "svc=SVC()\n",
    "svc.fit(X_train,y_train)\n",
    "ysvc=svc.predict(X_test)\n",
    "svcacc=accuracy_score(ysvc,y_test)\n",
    "svcmatrix=confusion_matrix(y_test,ysvc)\n",
    "svcreport=classification_report(y_test,ysvc,output_dict=True)\n",
    "print(svcacc)\n",
    "print(svcmatrix)\n",
    "print(svcreport)"
   ]
  },
  {
   "cell_type": "code",
   "execution_count": 9,
   "metadata": {},
   "outputs": [
    {
     "name": "stdout",
     "output_type": "stream",
     "text": [
      "0.7927608232789212\n",
      "[[925 110]\n",
      " [182 192]]\n",
      "{'0': {'precision': 0.8355916892502259, 'recall': 0.893719806763285, 'f1-score': 0.8636788048552755, 'support': 1035.0}, '1': {'precision': 0.6357615894039735, 'recall': 0.5133689839572193, 'f1-score': 0.5680473372781065, 'support': 374.0}, 'accuracy': 0.7927608232789212, 'macro avg': {'precision': 0.7356766393270997, 'recall': 0.7035443953602522, 'f1-score': 0.715863071066691, 'support': 1409.0}, 'weighted avg': {'precision': 0.7825494909943718, 'recall': 0.7927608232789212, 'f1-score': 0.785207428791499, 'support': 1409.0}}\n"
     ]
    }
   ],
   "source": [
    "#Logistic Regression Model\n",
    "logreg=LogisticRegression(max_iter=1000)\n",
    "logreg.fit(X_train,y_train)\n",
    "ylogreg=logreg.predict(X_test)\n",
    "logregacc=accuracy_score(ylogreg,y_test)\n",
    "logregmatrix=confusion_matrix(y_test,ylogreg)\n",
    "logregreport=classification_report(y_test,ylogreg,output_dict=True)\n",
    "print(logregacc)\n",
    "print(logregmatrix)\n",
    "print(logregreport)"
   ]
  },
  {
   "cell_type": "code",
   "execution_count": 10,
   "metadata": {},
   "outputs": [
    {
     "name": "stdout",
     "output_type": "stream",
     "text": [
      "0.7345635202271115\n",
      "[[857 178]\n",
      " [196 178]]\n",
      "{'0': {'precision': 0.8138651471984806, 'recall': 0.8280193236714976, 'f1-score': 0.8208812260536399, 'support': 1035.0}, '1': {'precision': 0.5, 'recall': 0.47593582887700536, 'f1-score': 0.4876712328767123, 'support': 374.0}, 'accuracy': 0.7345635202271115, 'macro avg': {'precision': 0.6569325735992403, 'recall': 0.6519775762742515, 'f1-score': 0.654276229465176, 'support': 1409.0}, 'weighted avg': {'precision': 0.7305538874027163, 'recall': 0.7345635202271115, 'f1-score': 0.732435138439608, 'support': 1409.0}}\n"
     ]
    }
   ],
   "source": [
    "#Tree Model\n",
    "tree=DecisionTreeClassifier()\n",
    "tree.fit(X_train,y_train)\n",
    "ytree=tree.predict(X_test)\n",
    "treeacc=accuracy_score(ytree,y_test)\n",
    "treematrix=confusion_matrix(y_test,ytree)\n",
    "treereport=classification_report(y_test,ytree,output_dict=True)\n",
    "print(treeacc)\n",
    "print(treematrix)\n",
    "print(treereport)"
   ]
  },
  {
   "cell_type": "code",
   "execution_count": 11,
   "metadata": {},
   "outputs": [
    {
     "name": "stdout",
     "output_type": "stream",
     "text": [
      "0.7679205110007097\n",
      "[[921 114]\n",
      " [213 161]]\n",
      "{'0': {'precision': 0.8121693121693122, 'recall': 0.8898550724637682, 'f1-score': 0.8492392807745505, 'support': 1035.0}, '1': {'precision': 0.5854545454545454, 'recall': 0.4304812834224599, 'f1-score': 0.49614791987673346, 'support': 374.0}, 'accuracy': 0.7679205110007097, 'macro avg': {'precision': 0.6988119288119288, 'recall': 0.660168177943114, 'f1-score': 0.672693600325642, 'support': 1409.0}, 'weighted avg': {'precision': 0.7519909425800129, 'recall': 0.7679205110007097, 'f1-score': 0.7555159528996155, 'support': 1409.0}}\n"
     ]
    }
   ],
   "source": [
    "#Forest Model\n",
    "forest=RandomForestClassifier()\n",
    "forest.fit(X_train,y_train)\n",
    "yforest=forest.predict(X_test)\n",
    "forestacc=accuracy_score(yforest,y_test)\n",
    "forestmatrix=confusion_matrix(y_test,yforest)\n",
    "forestreport=classification_report(y_test,yforest,output_dict=True)\n",
    "print(forestacc)\n",
    "print(forestmatrix)\n",
    "print(forestreport)"
   ]
  }
 ],
 "metadata": {
  "kernelspec": {
   "display_name": ".venv",
   "language": "python",
   "name": "python3"
  },
  "language_info": {
   "codemirror_mode": {
    "name": "ipython",
    "version": 3
   },
   "file_extension": ".py",
   "mimetype": "text/x-python",
   "name": "python",
   "nbconvert_exporter": "python",
   "pygments_lexer": "ipython3",
   "version": "3.10.11"
  }
 },
 "nbformat": 4,
 "nbformat_minor": 2
}
