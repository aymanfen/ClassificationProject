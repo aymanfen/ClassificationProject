{
 "cells": [
  {
   "cell_type": "code",
   "execution_count": 1,
   "metadata": {},
   "outputs": [],
   "source": [
    "import numpy as np\n",
    "import pandas as pd\n",
    "from sklearn.model_selection import train_test_split\n",
    "from sklearn.neighbors import KNeighborsClassifier\n",
    "from sklearn.svm import SVC\n",
    "from sklearn.linear_model import LogisticRegression\n",
    "from sklearn.tree import DecisionTreeClassifier\n",
    "from sklearn.ensemble import RandomForestClassifier\n",
    "from sklearn.metrics import accuracy_score,confusion_matrix,classification_report"
   ]
  },
  {
   "cell_type": "code",
   "execution_count": 2,
   "metadata": {},
   "outputs": [
    {
     "data": {
      "text/html": [
       "<div>\n",
       "<style scoped>\n",
       "    .dataframe tbody tr th:only-of-type {\n",
       "        vertical-align: middle;\n",
       "    }\n",
       "\n",
       "    .dataframe tbody tr th {\n",
       "        vertical-align: top;\n",
       "    }\n",
       "\n",
       "    .dataframe thead th {\n",
       "        text-align: right;\n",
       "    }\n",
       "</style>\n",
       "<table border=\"1\" class=\"dataframe\">\n",
       "  <thead>\n",
       "    <tr style=\"text-align: right;\">\n",
       "      <th></th>\n",
       "      <th>gender</th>\n",
       "      <th>SeniorCitizen</th>\n",
       "      <th>Partner</th>\n",
       "      <th>Dependents</th>\n",
       "      <th>tenure</th>\n",
       "      <th>PhoneService</th>\n",
       "      <th>MultipleLines</th>\n",
       "      <th>InternetService</th>\n",
       "      <th>OnlineSecurity</th>\n",
       "      <th>OnlineBackup</th>\n",
       "      <th>DeviceProtection</th>\n",
       "      <th>TechSupport</th>\n",
       "      <th>StreamingTV</th>\n",
       "      <th>StreamingMovies</th>\n",
       "      <th>Contract</th>\n",
       "      <th>PaperlessBilling</th>\n",
       "      <th>PaymentMethod</th>\n",
       "      <th>MonthlyCharges</th>\n",
       "      <th>TotalCharges</th>\n",
       "      <th>Churn</th>\n",
       "    </tr>\n",
       "  </thead>\n",
       "  <tbody>\n",
       "    <tr>\n",
       "      <th>0</th>\n",
       "      <td>1.0</td>\n",
       "      <td>0.0</td>\n",
       "      <td>1.0</td>\n",
       "      <td>0.0</td>\n",
       "      <td>0.013889</td>\n",
       "      <td>0.0</td>\n",
       "      <td>1.0</td>\n",
       "      <td>0.5</td>\n",
       "      <td>0.0</td>\n",
       "      <td>0.5</td>\n",
       "      <td>0.0</td>\n",
       "      <td>0.0</td>\n",
       "      <td>0.0</td>\n",
       "      <td>0.0</td>\n",
       "      <td>0.0</td>\n",
       "      <td>1.0</td>\n",
       "      <td>0.000000</td>\n",
       "      <td>0.115423</td>\n",
       "      <td>0.003437</td>\n",
       "      <td>0.0</td>\n",
       "    </tr>\n",
       "    <tr>\n",
       "      <th>1</th>\n",
       "      <td>0.0</td>\n",
       "      <td>0.0</td>\n",
       "      <td>0.0</td>\n",
       "      <td>0.0</td>\n",
       "      <td>0.472222</td>\n",
       "      <td>1.0</td>\n",
       "      <td>0.0</td>\n",
       "      <td>0.5</td>\n",
       "      <td>0.5</td>\n",
       "      <td>0.0</td>\n",
       "      <td>0.5</td>\n",
       "      <td>0.0</td>\n",
       "      <td>0.0</td>\n",
       "      <td>0.0</td>\n",
       "      <td>0.5</td>\n",
       "      <td>0.0</td>\n",
       "      <td>0.333333</td>\n",
       "      <td>0.385075</td>\n",
       "      <td>0.217564</td>\n",
       "      <td>0.0</td>\n",
       "    </tr>\n",
       "    <tr>\n",
       "      <th>2</th>\n",
       "      <td>0.0</td>\n",
       "      <td>0.0</td>\n",
       "      <td>0.0</td>\n",
       "      <td>0.0</td>\n",
       "      <td>0.027778</td>\n",
       "      <td>1.0</td>\n",
       "      <td>0.0</td>\n",
       "      <td>0.5</td>\n",
       "      <td>0.5</td>\n",
       "      <td>0.5</td>\n",
       "      <td>0.0</td>\n",
       "      <td>0.0</td>\n",
       "      <td>0.0</td>\n",
       "      <td>0.0</td>\n",
       "      <td>0.0</td>\n",
       "      <td>1.0</td>\n",
       "      <td>0.333333</td>\n",
       "      <td>0.354229</td>\n",
       "      <td>0.012453</td>\n",
       "      <td>1.0</td>\n",
       "    </tr>\n",
       "    <tr>\n",
       "      <th>3</th>\n",
       "      <td>0.0</td>\n",
       "      <td>0.0</td>\n",
       "      <td>0.0</td>\n",
       "      <td>0.0</td>\n",
       "      <td>0.625000</td>\n",
       "      <td>0.0</td>\n",
       "      <td>1.0</td>\n",
       "      <td>0.5</td>\n",
       "      <td>0.5</td>\n",
       "      <td>0.0</td>\n",
       "      <td>0.5</td>\n",
       "      <td>0.5</td>\n",
       "      <td>0.0</td>\n",
       "      <td>0.0</td>\n",
       "      <td>0.5</td>\n",
       "      <td>0.0</td>\n",
       "      <td>0.666667</td>\n",
       "      <td>0.239303</td>\n",
       "      <td>0.211951</td>\n",
       "      <td>0.0</td>\n",
       "    </tr>\n",
       "    <tr>\n",
       "      <th>4</th>\n",
       "      <td>1.0</td>\n",
       "      <td>0.0</td>\n",
       "      <td>0.0</td>\n",
       "      <td>0.0</td>\n",
       "      <td>0.027778</td>\n",
       "      <td>1.0</td>\n",
       "      <td>0.0</td>\n",
       "      <td>1.0</td>\n",
       "      <td>0.0</td>\n",
       "      <td>0.0</td>\n",
       "      <td>0.0</td>\n",
       "      <td>0.0</td>\n",
       "      <td>0.0</td>\n",
       "      <td>0.0</td>\n",
       "      <td>0.0</td>\n",
       "      <td>1.0</td>\n",
       "      <td>0.000000</td>\n",
       "      <td>0.521891</td>\n",
       "      <td>0.017462</td>\n",
       "      <td>1.0</td>\n",
       "    </tr>\n",
       "  </tbody>\n",
       "</table>\n",
       "</div>"
      ],
      "text/plain": [
       "   gender  SeniorCitizen  Partner  Dependents    tenure  PhoneService  \\\n",
       "0     1.0            0.0      1.0         0.0  0.013889           0.0   \n",
       "1     0.0            0.0      0.0         0.0  0.472222           1.0   \n",
       "2     0.0            0.0      0.0         0.0  0.027778           1.0   \n",
       "3     0.0            0.0      0.0         0.0  0.625000           0.0   \n",
       "4     1.0            0.0      0.0         0.0  0.027778           1.0   \n",
       "\n",
       "   MultipleLines  InternetService  OnlineSecurity  OnlineBackup  \\\n",
       "0            1.0              0.5             0.0           0.5   \n",
       "1            0.0              0.5             0.5           0.0   \n",
       "2            0.0              0.5             0.5           0.5   \n",
       "3            1.0              0.5             0.5           0.0   \n",
       "4            0.0              1.0             0.0           0.0   \n",
       "\n",
       "   DeviceProtection  TechSupport  StreamingTV  StreamingMovies  Contract  \\\n",
       "0               0.0          0.0          0.0              0.0       0.0   \n",
       "1               0.5          0.0          0.0              0.0       0.5   \n",
       "2               0.0          0.0          0.0              0.0       0.0   \n",
       "3               0.5          0.5          0.0              0.0       0.5   \n",
       "4               0.0          0.0          0.0              0.0       0.0   \n",
       "\n",
       "   PaperlessBilling  PaymentMethod  MonthlyCharges  TotalCharges  Churn  \n",
       "0               1.0       0.000000        0.115423      0.003437    0.0  \n",
       "1               0.0       0.333333        0.385075      0.217564    0.0  \n",
       "2               1.0       0.333333        0.354229      0.012453    1.0  \n",
       "3               0.0       0.666667        0.239303      0.211951    0.0  \n",
       "4               1.0       0.000000        0.521891      0.017462    1.0  "
      ]
     },
     "execution_count": 2,
     "metadata": {},
     "output_type": "execute_result"
    }
   ],
   "source": [
    "#Training Models on Basic Data\n",
    "df=pd.read_csv(\"Datasets/normaldata.csv\")\n",
    "df.drop(df.columns[0],axis=1,inplace=True)\n",
    "df.head()"
   ]
  },
  {
   "cell_type": "code",
   "execution_count": 3,
   "metadata": {},
   "outputs": [],
   "source": [
    "#prepare Data for training/testing\n",
    "X=df.iloc[:,:-1]\n",
    "y=df.iloc[:,-1]\n"
   ]
  },
  {
   "cell_type": "code",
   "execution_count": 4,
   "metadata": {},
   "outputs": [
    {
     "data": {
      "text/plain": [
       "(7043, 19)"
      ]
     },
     "execution_count": 4,
     "metadata": {},
     "output_type": "execute_result"
    }
   ],
   "source": [
    "X.shape"
   ]
  },
  {
   "cell_type": "code",
   "execution_count": 5,
   "metadata": {},
   "outputs": [
    {
     "data": {
      "text/plain": [
       "(7043,)"
      ]
     },
     "execution_count": 5,
     "metadata": {},
     "output_type": "execute_result"
    }
   ],
   "source": [
    "y.shape"
   ]
  },
  {
   "cell_type": "code",
   "execution_count": 6,
   "metadata": {},
   "outputs": [],
   "source": [
    "X_train,X_test,y_train,y_test=train_test_split(X,y,test_size=0.2,random_state=21)"
   ]
  },
  {
   "cell_type": "code",
   "execution_count": 7,
   "metadata": {},
   "outputs": [
    {
     "name": "stdout",
     "output_type": "stream",
     "text": [
      "0.7721788502484032\n",
      "[[927 108]\n",
      " [213 161]]\n",
      "{'0.0': {'precision': 0.8131578947368421, 'recall': 0.8956521739130435, 'f1-score': 0.8524137931034482, 'support': 1035.0}, '1.0': {'precision': 0.5985130111524164, 'recall': 0.4304812834224599, 'f1-score': 0.5007776049766719, 'support': 374.0}, 'accuracy': 0.7721788502484032, 'macro avg': {'precision': 0.7058354529446292, 'recall': 0.6630667286677517, 'f1-score': 0.6765956990400601, 'support': 1409.0}, 'weighted avg': {'precision': 0.7561833124369306, 'recall': 0.7721788502484032, 'f1-score': 0.7590767211663195, 'support': 1409.0}}\n"
     ]
    }
   ],
   "source": [
    "#KNN Model\n",
    "knn=KNeighborsClassifier(n_neighbors=10)\n",
    "knn.fit(X_train,y_train)\n",
    "yknn=knn.predict(X_test)\n",
    "knnacc=accuracy_score(yknn,y_test)\n",
    "knnmatrix=confusion_matrix(y_test,yknn)\n",
    "knnreport=classification_report(y_test,yknn,output_dict=True)\n",
    "print(knnacc)\n",
    "print(knnmatrix)\n",
    "print(knnreport)"
   ]
  },
  {
   "cell_type": "code",
   "execution_count": 8,
   "metadata": {},
   "outputs": [
    {
     "name": "stdout",
     "output_type": "stream",
     "text": [
      "0.794180269694819\n",
      "[[939  96]\n",
      " [194 180]]\n",
      "{'0.0': {'precision': 0.8287731685789939, 'recall': 0.9072463768115943, 'f1-score': 0.8662361623616236, 'support': 1035.0}, '1.0': {'precision': 0.6521739130434783, 'recall': 0.48128342245989303, 'f1-score': 0.5538461538461539, 'support': 374.0}, 'accuracy': 0.794180269694819, 'macro avg': {'precision': 0.7404735408112361, 'recall': 0.6942648996357437, 'f1-score': 0.7100411581038888, 'support': 1409.0}, 'weighted avg': {'precision': 0.7818972838591339, 'recall': 0.794180269694819, 'f1-score': 0.7833164581850546, 'support': 1409.0}}\n"
     ]
    }
   ],
   "source": [
    "#SVC model\n",
    "svc=SVC()\n",
    "svc.fit(X_train,y_train)\n",
    "ysvc=svc.predict(X_test)\n",
    "svcacc=accuracy_score(ysvc,y_test)\n",
    "svcmatrix=confusion_matrix(y_test,ysvc)\n",
    "svcreport=classification_report(y_test,ysvc,output_dict=True)\n",
    "print(svcacc)\n",
    "print(svcmatrix)\n",
    "print(svcreport)"
   ]
  },
  {
   "cell_type": "code",
   "execution_count": 9,
   "metadata": {},
   "outputs": [
    {
     "name": "stdout",
     "output_type": "stream",
     "text": [
      "0.7906316536550745\n",
      "[[921 114]\n",
      " [181 193]]\n",
      "{'0.0': {'precision': 0.8357531760435571, 'recall': 0.8898550724637682, 'f1-score': 0.8619560131024802, 'support': 1035.0}, '1.0': {'precision': 0.6286644951140065, 'recall': 0.516042780748663, 'f1-score': 0.566813509544787, 'support': 374.0}, 'accuracy': 0.7906316536550745, 'macro avg': {'precision': 0.7322088355787818, 'recall': 0.7029489266062157, 'f1-score': 0.7143847613236336, 'support': 1409.0}, 'weighted avg': {'precision': 0.7807842855768062, 'recall': 0.7906316536550745, 'f1-score': 0.7836144259267688, 'support': 1409.0}}\n"
     ]
    }
   ],
   "source": [
    "#Logistic Regression Model\n",
    "logreg=LogisticRegression(max_iter=1000)\n",
    "logreg.fit(X_train,y_train)\n",
    "ylogreg=logreg.predict(X_test)\n",
    "logregacc=accuracy_score(ylogreg,y_test)\n",
    "logregmatrix=confusion_matrix(y_test,ylogreg)\n",
    "logregreport=classification_report(y_test,ylogreg,output_dict=True)\n",
    "print(logregacc)\n",
    "print(logregmatrix)\n",
    "print(logregreport)"
   ]
  },
  {
   "cell_type": "code",
   "execution_count": 10,
   "metadata": {},
   "outputs": [
    {
     "name": "stdout",
     "output_type": "stream",
     "text": [
      "0.7217885024840313\n",
      "[[833 202]\n",
      " [190 184]]\n",
      "{'0.0': {'precision': 0.8142717497556208, 'recall': 0.8048309178743961, 'f1-score': 0.8095238095238095, 'support': 1035.0}, '1.0': {'precision': 0.47668393782383417, 'recall': 0.4919786096256685, 'f1-score': 0.4842105263157895, 'support': 374.0}, 'accuracy': 0.7217885024840313, 'macro avg': {'precision': 0.6454778437897275, 'recall': 0.6484047637500323, 'f1-score': 0.6468671679197995, 'support': 1409.0}, 'weighted avg': {'precision': 0.7246636293422154, 'recall': 0.7217885024840313, 'f1-score': 0.7231737968057119, 'support': 1409.0}}\n"
     ]
    }
   ],
   "source": [
    "#Tree Model\n",
    "tree=DecisionTreeClassifier()\n",
    "tree.fit(X_train,y_train)\n",
    "ytree=tree.predict(X_test)\n",
    "treeacc=accuracy_score(ytree,y_test)\n",
    "treematrix=confusion_matrix(y_test,ytree)\n",
    "treereport=classification_report(y_test,ytree,output_dict=True)\n",
    "print(treeacc)\n",
    "print(treematrix)\n",
    "print(treereport)"
   ]
  },
  {
   "cell_type": "code",
   "execution_count": 11,
   "metadata": {},
   "outputs": [
    {
     "name": "stdout",
     "output_type": "stream",
     "text": [
      "0.7821149751596878\n",
      "[[925 110]\n",
      " [197 177]]\n",
      "{'0.0': {'precision': 0.8244206773618539, 'recall': 0.893719806763285, 'f1-score': 0.8576726935558646, 'support': 1035.0}, '1.0': {'precision': 0.6167247386759582, 'recall': 0.4732620320855615, 'f1-score': 0.5355521936459909, 'support': 374.0}, 'accuracy': 0.7821149751596878, 'macro avg': {'precision': 0.720572708018906, 'recall': 0.6834909194244232, 'f1-score': 0.6966124436009278, 'support': 1409.0}, 'weighted avg': {'precision': 0.7692905985339441, 'recall': 0.7821149751596878, 'f1-score': 0.7721701619971046, 'support': 1409.0}}\n"
     ]
    }
   ],
   "source": [
    "#Forest Model\n",
    "forest=RandomForestClassifier()\n",
    "forest.fit(X_train,y_train)\n",
    "yforest=forest.predict(X_test)\n",
    "forestacc=accuracy_score(yforest,y_test)\n",
    "forestmatrix=confusion_matrix(y_test,yforest)\n",
    "forestreport=classification_report(y_test,yforest,output_dict=True)\n",
    "print(forestacc)\n",
    "print(forestmatrix)\n",
    "print(forestreport)"
   ]
  },
  {
   "cell_type": "code",
   "execution_count": 33,
   "metadata": {},
   "outputs": [
    {
     "data": {
      "text/html": [
       "<div>\n",
       "<style scoped>\n",
       "    .dataframe tbody tr th:only-of-type {\n",
       "        vertical-align: middle;\n",
       "    }\n",
       "\n",
       "    .dataframe tbody tr th {\n",
       "        vertical-align: top;\n",
       "    }\n",
       "\n",
       "    .dataframe thead th {\n",
       "        text-align: right;\n",
       "    }\n",
       "</style>\n",
       "<table border=\"1\" class=\"dataframe\">\n",
       "  <thead>\n",
       "    <tr style=\"text-align: right;\">\n",
       "      <th></th>\n",
       "      <th>model</th>\n",
       "      <th>precision</th>\n",
       "      <th>recall</th>\n",
       "      <th>f1</th>\n",
       "    </tr>\n",
       "  </thead>\n",
       "  <tbody>\n",
       "    <tr>\n",
       "      <th>0</th>\n",
       "      <td>normalknn</td>\n",
       "      <td>0.756183</td>\n",
       "      <td>0.772179</td>\n",
       "      <td>0.759077</td>\n",
       "    </tr>\n",
       "    <tr>\n",
       "      <th>1</th>\n",
       "      <td>normalsvc</td>\n",
       "      <td>0.781897</td>\n",
       "      <td>0.794180</td>\n",
       "      <td>0.783316</td>\n",
       "    </tr>\n",
       "    <tr>\n",
       "      <th>2</th>\n",
       "      <td>normalLogReg</td>\n",
       "      <td>0.780784</td>\n",
       "      <td>0.790632</td>\n",
       "      <td>0.783614</td>\n",
       "    </tr>\n",
       "    <tr>\n",
       "      <th>3</th>\n",
       "      <td>normalTree</td>\n",
       "      <td>0.724664</td>\n",
       "      <td>0.721789</td>\n",
       "      <td>0.723174</td>\n",
       "    </tr>\n",
       "    <tr>\n",
       "      <th>4</th>\n",
       "      <td>normalForest</td>\n",
       "      <td>0.769291</td>\n",
       "      <td>0.782115</td>\n",
       "      <td>0.772170</td>\n",
       "    </tr>\n",
       "  </tbody>\n",
       "</table>\n",
       "</div>"
      ],
      "text/plain": [
       "          model  precision    recall        f1\n",
       "0     normalknn   0.756183  0.772179  0.759077\n",
       "1     normalsvc   0.781897  0.794180  0.783316\n",
       "2  normalLogReg   0.780784  0.790632  0.783614\n",
       "3    normalTree   0.724664  0.721789  0.723174\n",
       "4  normalForest   0.769291  0.782115  0.772170"
      ]
     },
     "execution_count": 33,
     "metadata": {},
     "output_type": "execute_result"
    }
   ],
   "source": [
    "metrics={\n",
    "    \"model\":[\"normalknn\",\"normalsvc\",\"normalLogReg\",\"normalTree\",\"normalForest\"],\n",
    "    \"precision\":[knnreport[\"weighted avg\"][\"precision\"],svcreport[\"weighted avg\"][\"precision\"],logregreport[\"weighted avg\"][\"precision\"],treereport[\"weighted avg\"][\"precision\"],forestreport[\"weighted avg\"][\"precision\"]],\n",
    "    \"recall\":[knnreport[\"weighted avg\"][\"recall\"],svcreport[\"weighted avg\"][\"recall\"],logregreport[\"weighted avg\"][\"recall\"],treereport[\"weighted avg\"][\"recall\"],forestreport[\"weighted avg\"][\"recall\"]],\n",
    "    \"f1\":[knnreport[\"weighted avg\"]['f1-score'],svcreport[\"weighted avg\"][\"f1-score\"],logregreport[\"weighted avg\"][\"f1-score\"],treereport[\"weighted avg\"][\"f1-score\"],forestreport[\"weighted avg\"][\"f1-score\"]]\n",
    "}\n",
    "metrics=pd.DataFrame(metrics)\n",
    "metrics.head()"
   ]
  },
  {
   "cell_type": "code",
   "execution_count": 35,
   "metadata": {},
   "outputs": [
    {
     "data": {
      "text/html": [
       "<div>\n",
       "<style scoped>\n",
       "    .dataframe tbody tr th:only-of-type {\n",
       "        vertical-align: middle;\n",
       "    }\n",
       "\n",
       "    .dataframe tbody tr th {\n",
       "        vertical-align: top;\n",
       "    }\n",
       "\n",
       "    .dataframe thead th {\n",
       "        text-align: right;\n",
       "    }\n",
       "</style>\n",
       "<table border=\"1\" class=\"dataframe\">\n",
       "  <thead>\n",
       "    <tr style=\"text-align: right;\">\n",
       "      <th></th>\n",
       "      <th>model</th>\n",
       "      <th>precision</th>\n",
       "      <th>recall</th>\n",
       "      <th>f1</th>\n",
       "    </tr>\n",
       "  </thead>\n",
       "  <tbody>\n",
       "    <tr>\n",
       "      <th>0</th>\n",
       "      <td>baseknn</td>\n",
       "      <td>0.780759</td>\n",
       "      <td>0.792051</td>\n",
       "      <td>0.765596</td>\n",
       "    </tr>\n",
       "    <tr>\n",
       "      <th>1</th>\n",
       "      <td>basesvc</td>\n",
       "      <td>0.539584</td>\n",
       "      <td>0.734564</td>\n",
       "      <td>0.622155</td>\n",
       "    </tr>\n",
       "    <tr>\n",
       "      <th>2</th>\n",
       "      <td>baseLogReg</td>\n",
       "      <td>0.786733</td>\n",
       "      <td>0.794890</td>\n",
       "      <td>0.789405</td>\n",
       "    </tr>\n",
       "    <tr>\n",
       "      <th>3</th>\n",
       "      <td>baseTree</td>\n",
       "      <td>0.725576</td>\n",
       "      <td>0.723918</td>\n",
       "      <td>0.724729</td>\n",
       "    </tr>\n",
       "    <tr>\n",
       "      <th>4</th>\n",
       "      <td>baseForest</td>\n",
       "      <td>0.772494</td>\n",
       "      <td>0.786373</td>\n",
       "      <td>0.774088</td>\n",
       "    </tr>\n",
       "    <tr>\n",
       "      <th>5</th>\n",
       "      <td>normalknn</td>\n",
       "      <td>0.756183</td>\n",
       "      <td>0.772179</td>\n",
       "      <td>0.759077</td>\n",
       "    </tr>\n",
       "    <tr>\n",
       "      <th>6</th>\n",
       "      <td>normalsvc</td>\n",
       "      <td>0.781897</td>\n",
       "      <td>0.794180</td>\n",
       "      <td>0.783316</td>\n",
       "    </tr>\n",
       "    <tr>\n",
       "      <th>7</th>\n",
       "      <td>normalLogReg</td>\n",
       "      <td>0.780784</td>\n",
       "      <td>0.790632</td>\n",
       "      <td>0.783614</td>\n",
       "    </tr>\n",
       "    <tr>\n",
       "      <th>8</th>\n",
       "      <td>normalTree</td>\n",
       "      <td>0.724664</td>\n",
       "      <td>0.721789</td>\n",
       "      <td>0.723174</td>\n",
       "    </tr>\n",
       "    <tr>\n",
       "      <th>9</th>\n",
       "      <td>normalForest</td>\n",
       "      <td>0.769291</td>\n",
       "      <td>0.782115</td>\n",
       "      <td>0.772170</td>\n",
       "    </tr>\n",
       "  </tbody>\n",
       "</table>\n",
       "</div>"
      ],
      "text/plain": [
       "          model  precision    recall        f1\n",
       "0       baseknn   0.780759  0.792051  0.765596\n",
       "1       basesvc   0.539584  0.734564  0.622155\n",
       "2    baseLogReg   0.786733  0.794890  0.789405\n",
       "3      baseTree   0.725576  0.723918  0.724729\n",
       "4    baseForest   0.772494  0.786373  0.774088\n",
       "5     normalknn   0.756183  0.772179  0.759077\n",
       "6     normalsvc   0.781897  0.794180  0.783316\n",
       "7  normalLogReg   0.780784  0.790632  0.783614\n",
       "8    normalTree   0.724664  0.721789  0.723174\n",
       "9  normalForest   0.769291  0.782115  0.772170"
      ]
     },
     "execution_count": 35,
     "metadata": {},
     "output_type": "execute_result"
    }
   ],
   "source": [
    "errors=pd.read_csv(\"Metrics.csv\",index_col=0)\n",
    "metrics=pd.concat([errors,metrics],ignore_index=True)\n",
    "metrics"
   ]
  },
  {
   "cell_type": "code",
   "execution_count": 36,
   "metadata": {},
   "outputs": [],
   "source": [
    "metrics.to_csv(\"metrics.csv\")"
   ]
  }
 ],
 "metadata": {
  "kernelspec": {
   "display_name": ".venv",
   "language": "python",
   "name": "python3"
  },
  "language_info": {
   "codemirror_mode": {
    "name": "ipython",
    "version": 3
   },
   "file_extension": ".py",
   "mimetype": "text/x-python",
   "name": "python",
   "nbconvert_exporter": "python",
   "pygments_lexer": "ipython3",
   "version": "3.10.11"
  }
 },
 "nbformat": 4,
 "nbformat_minor": 2
}
