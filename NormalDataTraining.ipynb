{
 "cells": [
  {
   "cell_type": "code",
   "execution_count": 48,
   "metadata": {},
   "outputs": [],
   "source": [
    "import numpy as np\n",
    "import pandas as pd\n",
    "from sklearn.model_selection import train_test_split\n",
    "from sklearn.neighbors import KNeighborsClassifier\n",
    "from sklearn.svm import SVC\n",
    "from sklearn.linear_model import LogisticRegression\n",
    "from sklearn.tree import DecisionTreeClassifier\n",
    "from sklearn.ensemble import RandomForestClassifier\n",
    "from sklearn.metrics import accuracy_score,confusion_matrix,classification_report"
   ]
  },
  {
   "cell_type": "code",
   "execution_count": 49,
   "metadata": {},
   "outputs": [
    {
     "data": {
      "text/html": [
       "<div>\n",
       "<style scoped>\n",
       "    .dataframe tbody tr th:only-of-type {\n",
       "        vertical-align: middle;\n",
       "    }\n",
       "\n",
       "    .dataframe tbody tr th {\n",
       "        vertical-align: top;\n",
       "    }\n",
       "\n",
       "    .dataframe thead th {\n",
       "        text-align: right;\n",
       "    }\n",
       "</style>\n",
       "<table border=\"1\" class=\"dataframe\">\n",
       "  <thead>\n",
       "    <tr style=\"text-align: right;\">\n",
       "      <th></th>\n",
       "      <th>gender</th>\n",
       "      <th>SeniorCitizen</th>\n",
       "      <th>Partner</th>\n",
       "      <th>Dependents</th>\n",
       "      <th>tenure</th>\n",
       "      <th>PhoneService</th>\n",
       "      <th>MultipleLines</th>\n",
       "      <th>InternetService</th>\n",
       "      <th>OnlineSecurity</th>\n",
       "      <th>OnlineBackup</th>\n",
       "      <th>DeviceProtection</th>\n",
       "      <th>TechSupport</th>\n",
       "      <th>StreamingTV</th>\n",
       "      <th>StreamingMovies</th>\n",
       "      <th>Contract</th>\n",
       "      <th>PaperlessBilling</th>\n",
       "      <th>PaymentMethod</th>\n",
       "      <th>MonthlyCharges</th>\n",
       "      <th>TotalCharges</th>\n",
       "      <th>Churn</th>\n",
       "    </tr>\n",
       "  </thead>\n",
       "  <tbody>\n",
       "    <tr>\n",
       "      <th>0</th>\n",
       "      <td>1.0</td>\n",
       "      <td>0.0</td>\n",
       "      <td>1.0</td>\n",
       "      <td>0.0</td>\n",
       "      <td>0.013889</td>\n",
       "      <td>0.0</td>\n",
       "      <td>1.0</td>\n",
       "      <td>0.5</td>\n",
       "      <td>0.0</td>\n",
       "      <td>0.5</td>\n",
       "      <td>0.0</td>\n",
       "      <td>0.0</td>\n",
       "      <td>0.0</td>\n",
       "      <td>0.0</td>\n",
       "      <td>0.0</td>\n",
       "      <td>1.0</td>\n",
       "      <td>0.000000</td>\n",
       "      <td>0.115423</td>\n",
       "      <td>0.003437</td>\n",
       "      <td>0.0</td>\n",
       "    </tr>\n",
       "    <tr>\n",
       "      <th>1</th>\n",
       "      <td>0.0</td>\n",
       "      <td>0.0</td>\n",
       "      <td>0.0</td>\n",
       "      <td>0.0</td>\n",
       "      <td>0.472222</td>\n",
       "      <td>1.0</td>\n",
       "      <td>0.0</td>\n",
       "      <td>0.5</td>\n",
       "      <td>0.5</td>\n",
       "      <td>0.0</td>\n",
       "      <td>0.5</td>\n",
       "      <td>0.0</td>\n",
       "      <td>0.0</td>\n",
       "      <td>0.0</td>\n",
       "      <td>0.5</td>\n",
       "      <td>0.0</td>\n",
       "      <td>0.333333</td>\n",
       "      <td>0.385075</td>\n",
       "      <td>0.217564</td>\n",
       "      <td>0.0</td>\n",
       "    </tr>\n",
       "    <tr>\n",
       "      <th>2</th>\n",
       "      <td>0.0</td>\n",
       "      <td>0.0</td>\n",
       "      <td>0.0</td>\n",
       "      <td>0.0</td>\n",
       "      <td>0.027778</td>\n",
       "      <td>1.0</td>\n",
       "      <td>0.0</td>\n",
       "      <td>0.5</td>\n",
       "      <td>0.5</td>\n",
       "      <td>0.5</td>\n",
       "      <td>0.0</td>\n",
       "      <td>0.0</td>\n",
       "      <td>0.0</td>\n",
       "      <td>0.0</td>\n",
       "      <td>0.0</td>\n",
       "      <td>1.0</td>\n",
       "      <td>0.333333</td>\n",
       "      <td>0.354229</td>\n",
       "      <td>0.012453</td>\n",
       "      <td>1.0</td>\n",
       "    </tr>\n",
       "    <tr>\n",
       "      <th>3</th>\n",
       "      <td>0.0</td>\n",
       "      <td>0.0</td>\n",
       "      <td>0.0</td>\n",
       "      <td>0.0</td>\n",
       "      <td>0.625000</td>\n",
       "      <td>0.0</td>\n",
       "      <td>1.0</td>\n",
       "      <td>0.5</td>\n",
       "      <td>0.5</td>\n",
       "      <td>0.0</td>\n",
       "      <td>0.5</td>\n",
       "      <td>0.5</td>\n",
       "      <td>0.0</td>\n",
       "      <td>0.0</td>\n",
       "      <td>0.5</td>\n",
       "      <td>0.0</td>\n",
       "      <td>0.666667</td>\n",
       "      <td>0.239303</td>\n",
       "      <td>0.211951</td>\n",
       "      <td>0.0</td>\n",
       "    </tr>\n",
       "    <tr>\n",
       "      <th>4</th>\n",
       "      <td>1.0</td>\n",
       "      <td>0.0</td>\n",
       "      <td>0.0</td>\n",
       "      <td>0.0</td>\n",
       "      <td>0.027778</td>\n",
       "      <td>1.0</td>\n",
       "      <td>0.0</td>\n",
       "      <td>1.0</td>\n",
       "      <td>0.0</td>\n",
       "      <td>0.0</td>\n",
       "      <td>0.0</td>\n",
       "      <td>0.0</td>\n",
       "      <td>0.0</td>\n",
       "      <td>0.0</td>\n",
       "      <td>0.0</td>\n",
       "      <td>1.0</td>\n",
       "      <td>0.000000</td>\n",
       "      <td>0.521891</td>\n",
       "      <td>0.017462</td>\n",
       "      <td>1.0</td>\n",
       "    </tr>\n",
       "  </tbody>\n",
       "</table>\n",
       "</div>"
      ],
      "text/plain": [
       "   gender  SeniorCitizen  Partner  Dependents    tenure  PhoneService  \\\n",
       "0     1.0            0.0      1.0         0.0  0.013889           0.0   \n",
       "1     0.0            0.0      0.0         0.0  0.472222           1.0   \n",
       "2     0.0            0.0      0.0         0.0  0.027778           1.0   \n",
       "3     0.0            0.0      0.0         0.0  0.625000           0.0   \n",
       "4     1.0            0.0      0.0         0.0  0.027778           1.0   \n",
       "\n",
       "   MultipleLines  InternetService  OnlineSecurity  OnlineBackup  \\\n",
       "0            1.0              0.5             0.0           0.5   \n",
       "1            0.0              0.5             0.5           0.0   \n",
       "2            0.0              0.5             0.5           0.5   \n",
       "3            1.0              0.5             0.5           0.0   \n",
       "4            0.0              1.0             0.0           0.0   \n",
       "\n",
       "   DeviceProtection  TechSupport  StreamingTV  StreamingMovies  Contract  \\\n",
       "0               0.0          0.0          0.0              0.0       0.0   \n",
       "1               0.5          0.0          0.0              0.0       0.5   \n",
       "2               0.0          0.0          0.0              0.0       0.0   \n",
       "3               0.5          0.5          0.0              0.0       0.5   \n",
       "4               0.0          0.0          0.0              0.0       0.0   \n",
       "\n",
       "   PaperlessBilling  PaymentMethod  MonthlyCharges  TotalCharges  Churn  \n",
       "0               1.0       0.000000        0.115423      0.003437    0.0  \n",
       "1               0.0       0.333333        0.385075      0.217564    0.0  \n",
       "2               1.0       0.333333        0.354229      0.012453    1.0  \n",
       "3               0.0       0.666667        0.239303      0.211951    0.0  \n",
       "4               1.0       0.000000        0.521891      0.017462    1.0  "
      ]
     },
     "execution_count": 49,
     "metadata": {},
     "output_type": "execute_result"
    }
   ],
   "source": [
    "#Training Models on Basic Data\n",
    "df=pd.read_csv(\"Datasets/normaldata.csv\")\n",
    "df.drop(df.columns[0],axis=1,inplace=True)\n",
    "df.head()"
   ]
  },
  {
   "cell_type": "code",
   "execution_count": 50,
   "metadata": {},
   "outputs": [],
   "source": [
    "#prepare Data for training/testing\n",
    "X=df.iloc[:,:-1]\n",
    "y=df.iloc[:,-1]\n"
   ]
  },
  {
   "cell_type": "code",
   "execution_count": 51,
   "metadata": {},
   "outputs": [
    {
     "data": {
      "text/plain": [
       "(7043, 19)"
      ]
     },
     "execution_count": 51,
     "metadata": {},
     "output_type": "execute_result"
    }
   ],
   "source": [
    "X.shape"
   ]
  },
  {
   "cell_type": "code",
   "execution_count": 52,
   "metadata": {},
   "outputs": [
    {
     "data": {
      "text/plain": [
       "(7043,)"
      ]
     },
     "execution_count": 52,
     "metadata": {},
     "output_type": "execute_result"
    }
   ],
   "source": [
    "y.shape"
   ]
  },
  {
   "cell_type": "code",
   "execution_count": 53,
   "metadata": {},
   "outputs": [],
   "source": [
    "X_train,X_test,y_train,y_test=train_test_split(X,y,test_size=0.2,random_state=21)"
   ]
  },
  {
   "cell_type": "code",
   "execution_count": 54,
   "metadata": {},
   "outputs": [
    {
     "name": "stdout",
     "output_type": "stream",
     "text": [
      "0.7721788502484032\n",
      "[[927 108]\n",
      " [213 161]]\n",
      "{'0.0': {'precision': 0.8131578947368421, 'recall': 0.8956521739130435, 'f1-score': 0.8524137931034482, 'support': 1035.0}, '1.0': {'precision': 0.5985130111524164, 'recall': 0.4304812834224599, 'f1-score': 0.5007776049766719, 'support': 374.0}, 'accuracy': 0.7721788502484032, 'macro avg': {'precision': 0.7058354529446292, 'recall': 0.6630667286677517, 'f1-score': 0.6765956990400601, 'support': 1409.0}, 'weighted avg': {'precision': 0.7561833124369306, 'recall': 0.7721788502484032, 'f1-score': 0.7590767211663195, 'support': 1409.0}}\n"
     ]
    }
   ],
   "source": [
    "#KNN Model\n",
    "knn=KNeighborsClassifier(n_neighbors=10)\n",
    "knn.fit(X_train,y_train)\n",
    "yknn=knn.predict(X_test)\n",
    "knnacc=accuracy_score(yknn,y_test)\n",
    "knnmatrix=confusion_matrix(y_test,yknn)\n",
    "knnreport=classification_report(y_test,yknn,output_dict=True)\n",
    "print(knnacc)\n",
    "print(knnmatrix)\n",
    "print(knnreport)"
   ]
  },
  {
   "cell_type": "code",
   "execution_count": 55,
   "metadata": {},
   "outputs": [
    {
     "name": "stdout",
     "output_type": "stream",
     "text": [
      "0.794180269694819\n",
      "[[939  96]\n",
      " [194 180]]\n",
      "{'0.0': {'precision': 0.8287731685789939, 'recall': 0.9072463768115943, 'f1-score': 0.8662361623616236, 'support': 1035.0}, '1.0': {'precision': 0.6521739130434783, 'recall': 0.48128342245989303, 'f1-score': 0.5538461538461539, 'support': 374.0}, 'accuracy': 0.794180269694819, 'macro avg': {'precision': 0.7404735408112361, 'recall': 0.6942648996357437, 'f1-score': 0.7100411581038888, 'support': 1409.0}, 'weighted avg': {'precision': 0.7818972838591339, 'recall': 0.794180269694819, 'f1-score': 0.7833164581850546, 'support': 1409.0}}\n"
     ]
    }
   ],
   "source": [
    "#SVC model\n",
    "svc=SVC()\n",
    "svc.fit(X_train,y_train)\n",
    "ysvc=svc.predict(X_test)\n",
    "svcacc=accuracy_score(ysvc,y_test)\n",
    "svcmatrix=confusion_matrix(y_test,ysvc)\n",
    "svcreport=classification_report(y_test,ysvc,output_dict=True)\n",
    "print(svcacc)\n",
    "print(svcmatrix)\n",
    "print(svcreport)"
   ]
  },
  {
   "cell_type": "code",
   "execution_count": 56,
   "metadata": {},
   "outputs": [
    {
     "name": "stdout",
     "output_type": "stream",
     "text": [
      "0.7906316536550745\n",
      "[[921 114]\n",
      " [181 193]]\n",
      "{'0.0': {'precision': 0.8357531760435571, 'recall': 0.8898550724637682, 'f1-score': 0.8619560131024802, 'support': 1035.0}, '1.0': {'precision': 0.6286644951140065, 'recall': 0.516042780748663, 'f1-score': 0.566813509544787, 'support': 374.0}, 'accuracy': 0.7906316536550745, 'macro avg': {'precision': 0.7322088355787818, 'recall': 0.7029489266062157, 'f1-score': 0.7143847613236336, 'support': 1409.0}, 'weighted avg': {'precision': 0.7807842855768062, 'recall': 0.7906316536550745, 'f1-score': 0.7836144259267688, 'support': 1409.0}}\n"
     ]
    }
   ],
   "source": [
    "#Logistic Regression Model\n",
    "logreg=LogisticRegression(max_iter=1000)\n",
    "logreg.fit(X_train,y_train)\n",
    "ylogreg=logreg.predict(X_test)\n",
    "logregacc=accuracy_score(ylogreg,y_test)\n",
    "logregmatrix=confusion_matrix(y_test,ylogreg)\n",
    "logregreport=classification_report(y_test,ylogreg,output_dict=True)\n",
    "print(logregacc)\n",
    "print(logregmatrix)\n",
    "print(logregreport)"
   ]
  },
  {
   "cell_type": "code",
   "execution_count": 57,
   "metadata": {},
   "outputs": [
    {
     "name": "stdout",
     "output_type": "stream",
     "text": [
      "0.7203690560681334\n",
      "[[834 201]\n",
      " [193 181]]\n",
      "{'0.0': {'precision': 0.8120740019474196, 'recall': 0.8057971014492754, 'f1-score': 0.8089233753637245, 'support': 1035.0}, '1.0': {'precision': 0.4738219895287958, 'recall': 0.4839572192513369, 'f1-score': 0.47883597883597884, 'support': 374.0}, 'accuracy': 0.7203690560681334, 'macro avg': {'precision': 0.6429479957381077, 'recall': 0.6448771603503062, 'f1-score': 0.6438796770998516, 'support': 1409.0}, 'weighted avg': {'precision': 0.7222895784949247, 'recall': 0.7203690560681334, 'f1-score': 0.7213061388120021, 'support': 1409.0}}\n"
     ]
    }
   ],
   "source": [
    "#Tree Model\n",
    "tree=DecisionTreeClassifier()\n",
    "tree.fit(X_train,y_train)\n",
    "ytree=tree.predict(X_test)\n",
    "treeacc=accuracy_score(ytree,y_test)\n",
    "treematrix=confusion_matrix(y_test,ytree)\n",
    "treereport=classification_report(y_test,ytree,output_dict=True)\n",
    "print(treeacc)\n",
    "print(treematrix)\n",
    "print(treereport)"
   ]
  },
  {
   "cell_type": "code",
   "execution_count": 58,
   "metadata": {},
   "outputs": [
    {
     "name": "stdout",
     "output_type": "stream",
     "text": [
      "0.7920511000709723\n",
      "[[936  99]\n",
      " [194 180]]\n",
      "{'0.0': {'precision': 0.8283185840707965, 'recall': 0.9043478260869565, 'f1-score': 0.8646651270207852, 'support': 1035.0}, '1.0': {'precision': 0.6451612903225806, 'recall': 0.48128342245989303, 'f1-score': 0.5513016845329249, 'support': 374.0}, 'accuracy': 0.7920511000709723, 'macro avg': {'precision': 0.7367399371966885, 'recall': 0.6928156242734248, 'f1-score': 0.707983405776855, 'support': 1409.0}, 'weighted avg': {'precision': 0.7797019567735411, 'recall': 0.7920511000709723, 'f1-score': 0.7814870379572935, 'support': 1409.0}}\n"
     ]
    }
   ],
   "source": [
    "#Forest Model\n",
    "forest=RandomForestClassifier()\n",
    "forest.fit(X_train,y_train)\n",
    "yforest=forest.predict(X_test)\n",
    "forestacc=accuracy_score(yforest,y_test)\n",
    "forestmatrix=confusion_matrix(y_test,yforest)\n",
    "forestreport=classification_report(y_test,yforest,output_dict=True)\n",
    "print(forestacc)\n",
    "print(forestmatrix)\n",
    "print(forestreport)"
   ]
  }
 ],
 "metadata": {
  "kernelspec": {
   "display_name": ".venv",
   "language": "python",
   "name": "python3"
  },
  "language_info": {
   "codemirror_mode": {
    "name": "ipython",
    "version": 3
   },
   "file_extension": ".py",
   "mimetype": "text/x-python",
   "name": "python",
   "nbconvert_exporter": "python",
   "pygments_lexer": "ipython3",
   "version": "3.10.11"
  }
 },
 "nbformat": 4,
 "nbformat_minor": 2
}
