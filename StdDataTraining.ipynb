{
 "cells": [
  {
   "cell_type": "code",
   "execution_count": 12,
   "metadata": {},
   "outputs": [],
   "source": [
    "import numpy as np\n",
    "import pandas as pd\n",
    "from sklearn.model_selection import train_test_split\n",
    "from sklearn.neighbors import KNeighborsClassifier\n",
    "from sklearn.svm import SVC\n",
    "from sklearn.linear_model import LogisticRegression\n",
    "from sklearn.tree import DecisionTreeClassifier\n",
    "from sklearn.ensemble import RandomForestClassifier\n",
    "from sklearn.metrics import accuracy_score,confusion_matrix,classification_report"
   ]
  },
  {
   "cell_type": "code",
   "execution_count": 13,
   "metadata": {},
   "outputs": [
    {
     "data": {
      "text/html": [
       "<div>\n",
       "<style scoped>\n",
       "    .dataframe tbody tr th:only-of-type {\n",
       "        vertical-align: middle;\n",
       "    }\n",
       "\n",
       "    .dataframe tbody tr th {\n",
       "        vertical-align: top;\n",
       "    }\n",
       "\n",
       "    .dataframe thead th {\n",
       "        text-align: right;\n",
       "    }\n",
       "</style>\n",
       "<table border=\"1\" class=\"dataframe\">\n",
       "  <thead>\n",
       "    <tr style=\"text-align: right;\">\n",
       "      <th></th>\n",
       "      <th>gender</th>\n",
       "      <th>SeniorCitizen</th>\n",
       "      <th>Partner</th>\n",
       "      <th>Dependents</th>\n",
       "      <th>tenure</th>\n",
       "      <th>PhoneService</th>\n",
       "      <th>MultipleLines</th>\n",
       "      <th>InternetService</th>\n",
       "      <th>OnlineSecurity</th>\n",
       "      <th>OnlineBackup</th>\n",
       "      <th>DeviceProtection</th>\n",
       "      <th>TechSupport</th>\n",
       "      <th>StreamingTV</th>\n",
       "      <th>StreamingMovies</th>\n",
       "      <th>Contract</th>\n",
       "      <th>PaperlessBilling</th>\n",
       "      <th>PaymentMethod</th>\n",
       "      <th>MonthlyCharges</th>\n",
       "      <th>TotalCharges</th>\n",
       "      <th>Churn</th>\n",
       "    </tr>\n",
       "  </thead>\n",
       "  <tbody>\n",
       "    <tr>\n",
       "      <th>0</th>\n",
       "      <td>1.009559</td>\n",
       "      <td>-0.439916</td>\n",
       "      <td>1.034530</td>\n",
       "      <td>-0.654012</td>\n",
       "      <td>-1.277445</td>\n",
       "      <td>-3.054010</td>\n",
       "      <td>2.110535</td>\n",
       "      <td>-0.286223</td>\n",
       "      <td>-0.903589</td>\n",
       "      <td>0.284912</td>\n",
       "      <td>-0.998016</td>\n",
       "      <td>-0.909172</td>\n",
       "      <td>-1.071457</td>\n",
       "      <td>-1.07821</td>\n",
       "      <td>-0.828207</td>\n",
       "      <td>0.829798</td>\n",
       "      <td>-1.145198</td>\n",
       "      <td>-1.160323</td>\n",
       "      <td>-0.992611</td>\n",
       "      <td>0</td>\n",
       "    </tr>\n",
       "    <tr>\n",
       "      <th>1</th>\n",
       "      <td>-0.990532</td>\n",
       "      <td>-0.439916</td>\n",
       "      <td>-0.966622</td>\n",
       "      <td>-0.654012</td>\n",
       "      <td>0.066327</td>\n",
       "      <td>0.327438</td>\n",
       "      <td>-0.938280</td>\n",
       "      <td>-0.286223</td>\n",
       "      <td>0.351386</td>\n",
       "      <td>-0.999747</td>\n",
       "      <td>0.286059</td>\n",
       "      <td>-0.909172</td>\n",
       "      <td>-1.071457</td>\n",
       "      <td>-1.07821</td>\n",
       "      <td>0.371271</td>\n",
       "      <td>-1.205113</td>\n",
       "      <td>-0.274744</td>\n",
       "      <td>-0.259629</td>\n",
       "      <td>-0.172165</td>\n",
       "      <td>0</td>\n",
       "    </tr>\n",
       "    <tr>\n",
       "      <th>2</th>\n",
       "      <td>-0.990532</td>\n",
       "      <td>-0.439916</td>\n",
       "      <td>-0.966622</td>\n",
       "      <td>-0.654012</td>\n",
       "      <td>-1.236724</td>\n",
       "      <td>0.327438</td>\n",
       "      <td>-0.938280</td>\n",
       "      <td>-0.286223</td>\n",
       "      <td>0.351386</td>\n",
       "      <td>0.284912</td>\n",
       "      <td>-0.998016</td>\n",
       "      <td>-0.909172</td>\n",
       "      <td>-1.071457</td>\n",
       "      <td>-1.07821</td>\n",
       "      <td>-0.828207</td>\n",
       "      <td>0.829798</td>\n",
       "      <td>-0.274744</td>\n",
       "      <td>-0.362660</td>\n",
       "      <td>-0.958066</td>\n",
       "      <td>1</td>\n",
       "    </tr>\n",
       "    <tr>\n",
       "      <th>3</th>\n",
       "      <td>-0.990532</td>\n",
       "      <td>-0.439916</td>\n",
       "      <td>-0.966622</td>\n",
       "      <td>-0.654012</td>\n",
       "      <td>0.514251</td>\n",
       "      <td>-3.054010</td>\n",
       "      <td>2.110535</td>\n",
       "      <td>-0.286223</td>\n",
       "      <td>0.351386</td>\n",
       "      <td>-0.999747</td>\n",
       "      <td>0.286059</td>\n",
       "      <td>0.347362</td>\n",
       "      <td>-1.071457</td>\n",
       "      <td>-1.07821</td>\n",
       "      <td>0.371271</td>\n",
       "      <td>-1.205113</td>\n",
       "      <td>0.595711</td>\n",
       "      <td>-0.746535</td>\n",
       "      <td>-0.193672</td>\n",
       "      <td>0</td>\n",
       "    </tr>\n",
       "    <tr>\n",
       "      <th>4</th>\n",
       "      <td>1.009559</td>\n",
       "      <td>-0.439916</td>\n",
       "      <td>-0.966622</td>\n",
       "      <td>-0.654012</td>\n",
       "      <td>-1.236724</td>\n",
       "      <td>0.327438</td>\n",
       "      <td>-0.938280</td>\n",
       "      <td>0.997769</td>\n",
       "      <td>-0.903589</td>\n",
       "      <td>-0.999747</td>\n",
       "      <td>-0.998016</td>\n",
       "      <td>-0.909172</td>\n",
       "      <td>-1.071457</td>\n",
       "      <td>-1.07821</td>\n",
       "      <td>-0.828207</td>\n",
       "      <td>0.829798</td>\n",
       "      <td>-1.145198</td>\n",
       "      <td>0.197365</td>\n",
       "      <td>-0.938874</td>\n",
       "      <td>1</td>\n",
       "    </tr>\n",
       "  </tbody>\n",
       "</table>\n",
       "</div>"
      ],
      "text/plain": [
       "     gender  SeniorCitizen   Partner  Dependents    tenure  PhoneService  \\\n",
       "0  1.009559      -0.439916  1.034530   -0.654012 -1.277445     -3.054010   \n",
       "1 -0.990532      -0.439916 -0.966622   -0.654012  0.066327      0.327438   \n",
       "2 -0.990532      -0.439916 -0.966622   -0.654012 -1.236724      0.327438   \n",
       "3 -0.990532      -0.439916 -0.966622   -0.654012  0.514251     -3.054010   \n",
       "4  1.009559      -0.439916 -0.966622   -0.654012 -1.236724      0.327438   \n",
       "\n",
       "   MultipleLines  InternetService  OnlineSecurity  OnlineBackup  \\\n",
       "0       2.110535        -0.286223       -0.903589      0.284912   \n",
       "1      -0.938280        -0.286223        0.351386     -0.999747   \n",
       "2      -0.938280        -0.286223        0.351386      0.284912   \n",
       "3       2.110535        -0.286223        0.351386     -0.999747   \n",
       "4      -0.938280         0.997769       -0.903589     -0.999747   \n",
       "\n",
       "   DeviceProtection  TechSupport  StreamingTV  StreamingMovies  Contract  \\\n",
       "0         -0.998016    -0.909172    -1.071457         -1.07821 -0.828207   \n",
       "1          0.286059    -0.909172    -1.071457         -1.07821  0.371271   \n",
       "2         -0.998016    -0.909172    -1.071457         -1.07821 -0.828207   \n",
       "3          0.286059     0.347362    -1.071457         -1.07821  0.371271   \n",
       "4         -0.998016    -0.909172    -1.071457         -1.07821 -0.828207   \n",
       "\n",
       "   PaperlessBilling  PaymentMethod  MonthlyCharges  TotalCharges  Churn  \n",
       "0          0.829798      -1.145198       -1.160323     -0.992611      0  \n",
       "1         -1.205113      -0.274744       -0.259629     -0.172165      0  \n",
       "2          0.829798      -0.274744       -0.362660     -0.958066      1  \n",
       "3         -1.205113       0.595711       -0.746535     -0.193672      0  \n",
       "4          0.829798      -1.145198        0.197365     -0.938874      1  "
      ]
     },
     "execution_count": 13,
     "metadata": {},
     "output_type": "execute_result"
    }
   ],
   "source": [
    "#Training Models on Basic Data\n",
    "df=pd.read_csv(\"Datasets/standarddata.csv\")\n",
    "df.drop(df.columns[0],axis=1,inplace=True)\n",
    "df.head()"
   ]
  },
  {
   "cell_type": "code",
   "execution_count": 14,
   "metadata": {},
   "outputs": [],
   "source": [
    "#prepare Data for training/testing\n",
    "X=df.iloc[:,:-1]\n",
    "y=df.iloc[:,-1]\n"
   ]
  },
  {
   "cell_type": "code",
   "execution_count": 15,
   "metadata": {},
   "outputs": [
    {
     "data": {
      "text/plain": [
       "(7043, 19)"
      ]
     },
     "execution_count": 15,
     "metadata": {},
     "output_type": "execute_result"
    }
   ],
   "source": [
    "X.shape"
   ]
  },
  {
   "cell_type": "code",
   "execution_count": 16,
   "metadata": {},
   "outputs": [
    {
     "data": {
      "text/plain": [
       "(7043,)"
      ]
     },
     "execution_count": 16,
     "metadata": {},
     "output_type": "execute_result"
    }
   ],
   "source": [
    "y.shape"
   ]
  },
  {
   "cell_type": "code",
   "execution_count": 17,
   "metadata": {},
   "outputs": [],
   "source": [
    "X_train,X_test,y_train,y_test=train_test_split(X,y,test_size=0.2,random_state=21)"
   ]
  },
  {
   "cell_type": "code",
   "execution_count": 18,
   "metadata": {},
   "outputs": [
    {
     "name": "stdout",
     "output_type": "stream",
     "text": [
      "0.7735982966643009\n",
      "[[911 124]\n",
      " [195 179]]\n",
      "{'0': {'precision': 0.8236889692585895, 'recall': 0.8801932367149758, 'f1-score': 0.8510042036431574, 'support': 1035.0}, '1': {'precision': 0.5907590759075908, 'recall': 0.4786096256684492, 'f1-score': 0.5288035450516987, 'support': 374.0}, 'accuracy': 0.7735982966643009, 'macro avg': {'precision': 0.7072240225830901, 'recall': 0.6794014311917125, 'f1-score': 0.6899038743474281, 'support': 1409.0}, 'weighted avg': {'precision': 0.761860878333626, 'recall': 0.7735982966643009, 'f1-score': 0.7654803950461343, 'support': 1409.0}}\n"
     ]
    }
   ],
   "source": [
    "#KNN Model\n",
    "knn=KNeighborsClassifier(n_neighbors=20)\n",
    "knn.fit(X_train,y_train)\n",
    "yknn=knn.predict(X_test)\n",
    "knnacc=accuracy_score(yknn,y_test)\n",
    "knnmatrix=confusion_matrix(y_test,yknn)\n",
    "knnreport=classification_report(y_test,yknn,output_dict=True)\n",
    "print(knnacc)\n",
    "print(knnmatrix)\n",
    "print(knnreport)"
   ]
  },
  {
   "cell_type": "code",
   "execution_count": 19,
   "metadata": {},
   "outputs": [
    {
     "name": "stdout",
     "output_type": "stream",
     "text": [
      "0.7970191625266146\n",
      "[[938  97]\n",
      " [189 185]]\n",
      "{'0': {'precision': 0.8322981366459627, 'recall': 0.9062801932367149, 'f1-score': 0.8677150786308974, 'support': 1035.0}, '1': {'precision': 0.6560283687943262, 'recall': 0.4946524064171123, 'f1-score': 0.5640243902439024, 'support': 374.0}, 'accuracy': 0.7970191625266146, 'macro avg': {'precision': 0.7441632527201445, 'recall': 0.7004662998269136, 'f1-score': 0.7158697344373999, 'support': 1409.0}, 'weighted avg': {'precision': 0.7855097099770401, 'recall': 0.7970191625266146, 'f1-score': 0.7871044913656481, 'support': 1409.0}}\n"
     ]
    }
   ],
   "source": [
    "#SVC model\n",
    "svc=SVC()\n",
    "svc.fit(X_train,y_train)\n",
    "ysvc=svc.predict(X_test)\n",
    "svcacc=accuracy_score(ysvc,y_test)\n",
    "svcmatrix=confusion_matrix(y_test,ysvc)\n",
    "svcreport=classification_report(y_test,ysvc,output_dict=True)\n",
    "print(svcacc)\n",
    "print(svcmatrix)\n",
    "print(svcreport)"
   ]
  },
  {
   "cell_type": "code",
   "execution_count": 20,
   "metadata": {},
   "outputs": [
    {
     "name": "stdout",
     "output_type": "stream",
     "text": [
      "0.7885024840312278\n",
      "[[917 118]\n",
      " [180 194]]\n",
      "{'0': {'precision': 0.8359161349134002, 'recall': 0.8859903381642512, 'f1-score': 0.8602251407129456, 'support': 1035.0}, '1': {'precision': 0.6217948717948718, 'recall': 0.5187165775401069, 'f1-score': 0.565597667638484, 'support': 374.0}, 'accuracy': 0.7885024840312278, 'macro avg': {'precision': 0.728855503354136, 'recall': 0.7023534578521791, 'f1-score': 0.7129114041757147, 'support': 1409.0}, 'weighted avg': {'precision': 0.7790805405866935, 'recall': 0.7885024840312278, 'f1-score': 0.782020261415679, 'support': 1409.0}}\n"
     ]
    }
   ],
   "source": [
    "#Logistic Regression Model\n",
    "logreg=LogisticRegression(max_iter=1000)\n",
    "logreg.fit(X_train,y_train)\n",
    "ylogreg=logreg.predict(X_test)\n",
    "logregacc=accuracy_score(ylogreg,y_test)\n",
    "logregmatrix=confusion_matrix(y_test,ylogreg)\n",
    "logregreport=classification_report(y_test,ylogreg,output_dict=True)\n",
    "print(logregacc)\n",
    "print(logregmatrix)\n",
    "print(logregreport)"
   ]
  },
  {
   "cell_type": "code",
   "execution_count": 21,
   "metadata": {},
   "outputs": [
    {
     "name": "stdout",
     "output_type": "stream",
     "text": [
      "0.7203690560681334\n",
      "[[831 204]\n",
      " [190 184]]\n",
      "{'0': {'precision': 0.8139079333986288, 'recall': 0.8028985507246377, 'f1-score': 0.8083657587548638, 'support': 1035.0}, '1': {'precision': 0.4742268041237113, 'recall': 0.4919786096256685, 'f1-score': 0.48293963254593175, 'support': 374.0}, 'accuracy': 0.7203690560681334, 'macro avg': {'precision': 0.64406736876117, 'recall': 0.6474385801751531, 'f1-score': 0.6456526956503978, 'support': 1409.0}, 'weighted avg': {'precision': 0.7237441701986153, 'recall': 0.7203690560681334, 'f1-score': 0.7219857933878372, 'support': 1409.0}}\n"
     ]
    }
   ],
   "source": [
    "#Tree Model\n",
    "tree=DecisionTreeClassifier()\n",
    "tree.fit(X_train,y_train)\n",
    "ytree=tree.predict(X_test)\n",
    "treeacc=accuracy_score(ytree,y_test)\n",
    "treematrix=confusion_matrix(y_test,ytree)\n",
    "treereport=classification_report(y_test,ytree,output_dict=True)\n",
    "print(treeacc)\n",
    "print(treematrix)\n",
    "print(treereport)"
   ]
  },
  {
   "cell_type": "code",
   "execution_count": 22,
   "metadata": {},
   "outputs": [
    {
     "name": "stdout",
     "output_type": "stream",
     "text": [
      "0.7849538679914834\n",
      "[[934 101]\n",
      " [202 172]]\n",
      "{'0': {'precision': 0.8221830985915493, 'recall': 0.9024154589371981, 'f1-score': 0.8604329801934593, 'support': 1035.0}, '1': {'precision': 0.63003663003663, 'recall': 0.45989304812834225, 'f1-score': 0.5316846986089645, 'support': 374.0}, 'accuracy': 0.7849538679914834, 'macro avg': {'precision': 0.7261098643140896, 'recall': 0.6811542535327701, 'f1-score': 0.6960588394012119, 'support': 1409.0}, 'weighted avg': {'precision': 0.7711804163775394, 'recall': 0.7849538679914834, 'f1-score': 0.7731711935982847, 'support': 1409.0}}\n"
     ]
    }
   ],
   "source": [
    "#Forest Model\n",
    "forest=RandomForestClassifier()\n",
    "forest.fit(X_train,y_train)\n",
    "yforest=forest.predict(X_test)\n",
    "forestacc=accuracy_score(yforest,y_test)\n",
    "forestmatrix=confusion_matrix(y_test,yforest)\n",
    "forestreport=classification_report(y_test,yforest,output_dict=True)\n",
    "print(forestacc)\n",
    "print(forestmatrix)\n",
    "print(forestreport)"
   ]
  }
 ],
 "metadata": {
  "kernelspec": {
   "display_name": ".venv",
   "language": "python",
   "name": "python3"
  },
  "language_info": {
   "codemirror_mode": {
    "name": "ipython",
    "version": 3
   },
   "file_extension": ".py",
   "mimetype": "text/x-python",
   "name": "python",
   "nbconvert_exporter": "python",
   "pygments_lexer": "ipython3",
   "version": "3.10.11"
  }
 },
 "nbformat": 4,
 "nbformat_minor": 2
}
